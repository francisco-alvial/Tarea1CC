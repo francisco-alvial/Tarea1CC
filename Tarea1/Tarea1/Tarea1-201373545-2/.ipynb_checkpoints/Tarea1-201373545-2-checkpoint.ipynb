{
 "cells": [
  {
   "cell_type": "markdown",
   "metadata": {},
   "source": [
    "<img src=\"escudo_utfsm.gif\" style=\"float:right;height:100px\">\n",
    "<img src=\"IsotipoDIisocolor.png\" style=\"float:left;height:100px\">\n",
    "<center>\n",
    "    <h1> ILI285 - Computación Científica I / INF285 - Computación Científica</h1>\n",
    "    <h1> Tarea 1: Remember your roots </h1>\n",
    "    <h3> [S]cientific [C]omputing [T]eam 2019</h3>\n",
    "</center>\n",
    "<p>\n",
    "<center>Francisco Alvial Fuentes </center>\n",
    "    <center>francisco.alvial.13@sansano.usm.cl</center>\n",
    "    <center>201373545-2 </center>\n",
    "<center>Marzo 2019 - v1.25 </center>\n",
    "</p>\n",
    "\n",
    "---"
   ]
  },
  {
   "cell_type": "markdown",
   "metadata": {},
   "source": [
    "## Contexto\n",
    "\n",
    "La presente tarea tiene como objetivo el uso de algoritmos de búsquedas de ceros en 1D, como adaptarlos a un problema particular y que implicancias tiene el uso de cada uno, tanto desde el punto de vista de la aproximación de la solución como de la computación necesaria. Al final se presenta la interpretación gráfica de las soluciones obtenidas."
   ]
  },
  {
   "cell_type": "markdown",
   "metadata": {},
   "source": [
    "_Nota: En esta tarea no se puede utilizar ```sympy``` en los algoritmos numéricos, pero sí se puede utilizar para desarrollos intermedios, por ejemplo en la sección \"1.- Construcción\"._"
   ]
  },
  {
   "cell_type": "code",
   "execution_count": 4,
   "metadata": {},
   "outputs": [],
   "source": [
    "import numpy as np\n",
    "from sympy import *\n",
    "import matplotlib.pyplot as plt\n",
    "%matplotlib inline\n",
    "from ipywidgets import interact\n",
    "import ipywidgets as widgets"
   ]
  },
  {
   "cell_type": "markdown",
   "metadata": {},
   "source": [
    "-------"
   ]
  },
  {
   "cell_type": "markdown",
   "metadata": {},
   "source": [
    "## Problema\n",
    "\n",
    "El universo de Marvel fue atacado duramente por Thanos en _Avenger Infinity War_. \n",
    "Sin embargo, los Avengers en conjunto con la Capitana Marvel tienen un plan para salvar al universo.\n",
    "Lamentablemente, se han encontrado con la siguiente ecuación diferencial ordinaria que no pueden resolver:\n",
    "\n",
    "\\begin{align*}\n",
    "\\frac{dy}{dx}(x)&=y(x)\\cos{(x+y(x))},\\\\\n",
    "y(0)&=1,\n",
    "\\end{align*}\n",
    "\n",
    "donde $x \\in [0,100]$ y además sabemos que $-1000\\leq y(x) \\leq 1000$ para $x \\in [0,100]$.\n",
    "Afortunadamente, usted se ha dado cuenta que puede usar algoritmos numéricos para encontrar una aproximación numérica de $y(x)$ sobre una grilla de puntos $x_i=100\\frac{i}{M}$, con $i\\in\\{0,1,\\dots,M\\}$.\n",
    "Una estrategia para resolver este tipo de problemas es discretizar el dominio de la función, y en lugar de encontrar la función $y(x)$ algebraicamente, se encuentra una aproximación a $y(x_i)$ para cada $x_i$.\n",
    "\n",
    "Note que ya conocemos el valor exacto de $y(x_0)=y(0)=1$ por la condición inicial, por lo que necesitamos obtener el siguiente valor $y(x_1)$ y así sucesivamente hasta $y(x_M)$.\n",
    "Para hacer esto, primero hagamos un poco de desarrollo algebraico. \n",
    "Al integrar la ecuación diferencial entre $x_0$ y $x_1$ obtenemos:\n",
    "\n",
    "\\begin{equation*}\n",
    "\\int_{x_0}^{x_1} \\dfrac{dy}{dx}(x) \\, \\mathrm{d}x  =  \\int_{x_0}^{x_1} y(x)\\,\\cos{(x+y(x))} \\, \\mathrm{d}x.\n",
    "\\end{equation*}\n",
    "\n",
    "Por el **teorema fundamental del cálculo**, esto es:\n",
    "\n",
    "\\begin{equation*}\n",
    " y(x_1)- y(x_0)   =  \\int_{x_0}^{x_1} \\! y(x)\\cos{(x+y(x))} \\, \\mathrm{d}x.\n",
    "\\end{equation*}\n",
    "\n",
    "Hasta este punto no se ha realizado ninguna aproximación.\n",
    "Nótese que $y(x_1)$ es lo que buscamos y $y(x_0)$ es conocido, asi que vamos bien encaminados. \n",
    "Sin embargo necesitamos $y(x)$ para realizar la integral del lado derecho de la ecuación.\n",
    "Entonces, ahora es un buen momento para realizar una aproximación numérica.\n",
    "En este caso, utilizaremos el método de integración de trapecio.\n",
    "Este consiste en que una integral definida $\\int_a^b\\,f(x)\\,\\mathrm{d}x$ es obtenida por medio de la siguiente expresión $\\dfrac{f(a)+f(b)}{2}(b-a)+\\text{Error}$, i.e. $\\int_a^b\\,f(x)\\,\\mathrm{d}x\\approx\\dfrac{f(a)+f(b)}{2}(b-a)$.\n",
    "En la siguiente figura se muestra un sketch de la aproximación:"
   ]
  },
  {
   "cell_type": "markdown",
   "metadata": {},
   "source": [
    "<img src=\"Trapezoidal-Rule.png\" style=\"width:50%\">"
   ]
  },
  {
   "cell_type": "markdown",
   "metadata": {},
   "source": [
    "donde la función a integrar es la curva en rojo, el valor de la integral, en este caso, corresponde al área bajo la curva en gris, la aproximación de la integral $\\int_a^b\\,f(x)\\,\\mathrm{d}x$ por medio de un trapecio es la área achurada en celeste y el Error es la diferencia entre en valor de la integral y la aproximación por trapecio. \n",
    "Por ahora solo es necesario entender que el Error _debería_ disminuir a medida que el largo del intervalo $[a,b]$ sea más pequeño. Entonces, en nuestro caso esto se reduce a:\n",
    "\n",
    "\\begin{equation*}\n",
    " y(x_1)- y(x_0)   \\approx  \\dfrac{x_1-x_0}{2}\\left(y(x_1)\\cos{(x_1+y(x_1))}+y(x_0)\\cos{(x_0+y(x_0))}\\right).\n",
    "\\end{equation*}\n",
    "\n",
    "Lo que se transforma en el siguiente método numérico:\n",
    "\n",
    "\\begin{equation*}\n",
    " y_1- y_0   =  \\dfrac{x_1-x_0}{2}\\left(y_1\\cos{(x_1+y_1)}+y_0\\cos{(x_0+y_0)}\\right),\n",
    "\\end{equation*}\n",
    "\n",
    "donde lo conocido es $x_0$, $x_1$ y $y_0$ y lo que se busca es $y_1$. En el caso general, obtenemos\n",
    "la siguiente secuencia de ecuaciones que se deben resolver:\n",
    "\n",
    "\\begin{equation*}\n",
    " y_{i+1}- y_i   =  \\dfrac{x_{i+1}-x_i}{2}\\left(y_{i+1}\\cos{(x_{i+1}+y_{i+1})}+y_i\\cos{(x_i+y_i)}\\right),\n",
    "\\end{equation*}\n",
    "\n",
    "para $i\\in\\{0,1,\\dots,M\\}$, $x_i=100\\frac{i}{M}$ y $y_0=1$. _Con esta solución, los Avengers y la capitana Marvel tendrán todas la herramientas para derrotar a Thanos!_\n",
    "\n",
    "**Note: From now on $M$ will be denoted as $M\\_$intervals in the code.**"
   ]
  },
  {
   "cell_type": "markdown",
   "metadata": {},
   "source": [
    "----"
   ]
  },
  {
   "cell_type": "markdown",
   "metadata": {},
   "source": [
    "## Preguntas\n",
    "---"
   ]
  },
  {
   "cell_type": "markdown",
   "metadata": {},
   "source": [
    "## 1.- Construcción\n",
    "Explique cómo usar los tres métodos de búsqueda de raíces vistos en clases (bisección, iteración de punto fijo y método de Newton) para resolver la secuencia de problemas mencionados anteriormente.\n",
    "Debe explicitar completamente todo lo que necesita para luego poder implementar cada método.\n",
    "Sea claro y explícito en su estrategia. Se indicará en cada método lo mínimo que debe explicar.\n",
    "Ver [04_roots_of_1D_equations.ipynb](https://github.com/tclaudioe/Scientific-Computing/blob/master/SC1/04_roots_of_1D_equations.ipynb) para referencia.\n",
    "\n",
    "- Método de la Bisección. Debe escribir explícitamente cual es la función 'f' a utilizar y los intervalos $[a,b]$ a utilizar. <span style=\"color:blue; font-size: 2em\"> **10 puntos**</span> \n",
    "\n"
   ]
  },
  {
   "cell_type": "markdown",
   "metadata": {},
   "source": [
    "Para la explicación del problema los Avengers lograron pasar de la ecuación EDO:\n",
    "\n",
    "\\begin{align*}\n",
    "\\frac{dy}{dx}(x)&=y(x)\\cos{(x+y(x))},\\\\\n",
    "y(0)&=1,\n",
    "\\end{align*}\n",
    "\n",
    "A la ecuacion:\n",
    "\n",
    "\\begin{equation*}\n",
    " y_{i+1}- y_i   =  \\dfrac{x_{i+1}-x_i}{2}\\left(y_{i+1}\\cos{(x_{i+1}+y_{i+1})}+y_i\\cos{(x_i+y_i)}\\right),\n",
    "\\end{equation*}\n",
    "\n",
    "Pero todavía se necesita resolver un poco más, ya que se necesita encontrar una ecuación $f(x)$ que permita trabajar con el metodo de biseccion bajo un cierto intervalo $[a,b]$. Por otro lado se sabe que tenemos que encontrar un $f(x)$ tal que exista un $f(r) = 0$ estando este valor $r$ entre los intervalos $[a,b]$ los cuales tienen que cumplir que $f(a) * f(b) < 0$.\n",
    "\n",
    "De esta manera es posible encontrar este $f(x)$ despejando todo hacia un solo lado de la ecuación e igualando a cero, quedando la ecuación de la manera siguiente:\n",
    "\\begin{equation*}\n",
    " \\dfrac{x_{i+1}-x_i}{2}\\left(y_{i+1}\\cos{(x_{i+1}+y_{i+1})}+y_i\\cos{(x_i+y_i)}\\right) - y_{i+1} +  y_i = 0 ,\\\\\n",
    " f(y_{i+1}) = 0,\n",
    "\\end{equation*}\n",
    "\n",
    "\n",
    "Hemos encontrado la ecuación, pero todavía se pueden reemplazar algunos valores, ya que los $x_i$ y $x_{i+1}$ son conocidos por parte de la explicación del problema. Por lo que reemplazando los  $x_i=100\\frac{i}{M}$ quedaria la ecuacion de la siguiente manera:\n",
    "\n",
    "\\begin{equation*}\n",
    "    \\dfrac{50}{M}\\left(y_{i+1}\\cos{(100*(i+1)/M+y_{i+1})}+y_i\\cos{(100*i/M + y_i)}\\right)-y_{i+1} + y_i = 0\n",
    "\\end{equation*}\n",
    "\n",
    "Ahora que se tiene la función con los valores reemplazados, se puede observar de mejor manera que $y_i$ será una constante conocida al aplicar el metodo de biseccion, al igual que lo será $i$ y $M$, ya que los valores que tomará $y_i$ serán los valores que se obtendrán de las iteraciones anteriores. Por lo tanto lo único que se necesita obtener es el valor de $y_{i+1}$ que haga $f(y_{i+1}) = 0$, es decir, la raíz.\n",
    "\n",
    "Para obtener el intervalo $[a,b]$ se tiene la complicación de que la función variara dependiendo de:\n",
    "\n",
    "- El valor de $M$ que se le de a la función.\n",
    "- La iteración en la que este, ya que los $x_i$ tomarán valores distintos.\n",
    "- El valor de $y_i$ será distinto ya que irá cambiando su valor en cada iteración.\n",
    "\n",
    "Por lo tanto ya que esto hará que el intervalo cambie, se necesita un intervalo que pueda ir expandiéndose de tal manera que pueda cubrir los valores $-1000 \\leq y_{i+1} \\leq 1000$. Es por esto que se usará un intervalo $[-(2^j) , 2^j]$ con $j\\in\\{1,\\dots,9\\}$, el cual cubrirá desde $-512$ hasta $512$ y si se llega a que $j=9$ no sirve para el intervalo se usarán los valores de borde $-1000$ y $1000$. Cabe destacar que el hecho de usar potencias de 2 para ir incrementando el intervalo es para poder encontrar rápidamente un intervalo que sirva sin realizar demasiadas iteraciones.\n",
    "\n"
   ]
  },
  {
   "cell_type": "markdown",
   "metadata": {},
   "source": [
    "\n",
    "- Iteración de Punto Fijo (Restricción: Aquí no se puede usar el método de Newton). Explique cual será su _initial guess_ y la función 'g' a utilizar. Se espera que sea convergente. <span style=\"color:blue; font-size: 2em\"> **10 puntos**</span> \n"
   ]
  },
  {
   "cell_type": "markdown",
   "metadata": {},
   "source": [
    "De la pregunta anterior de bisección se logró obtener la función $f(y_{i+1})$, por lo cual a partir de esta se debe obtener una función $g(x)$ tal que $g(r) = r$ siendo $r$ el punto fijo de esa función, además del hecho de ser también la raíz de la función $f$.\n",
    "\n",
    "Para esto se aplicara lo aprendido en clases sobre punto fijo sobre la función $f$:\n",
    "\n",
    "\\begin{equation*}\n",
    "    \\dfrac{50}{M}\\left(y_{i+1}\\cos{(100*(i+1)/M+y_{i+1})}+y_i\\cos{(100*i/M + y_i)}\\right)-y_{i+1} + y_i = 0 \\\\\n",
    "    \\rightarrow \\dfrac{50}{M}\\left(y_{i+1}\\cos{(100*(i+1)/M+y_{i+1})}+y_i\\cos{(100*i/M + y_i)}\\right) + y_i = y_{i+1}\n",
    "\\end{equation*}\n",
    "\n",
    "\n",
    "Para simplificar la comprencion de la ecuacion remplazemos los $y_{i+1}$ por $z_i$, asi se podra ver que:\n",
    "\\begin{equation*}\n",
    "    \\rightarrow \\dfrac{50}{M}\\left(z_i\\cos{(100*(i+1)/M+z_i)}+y_i\\cos{(100*i/M + y_i)}\\right) + y_i = z_i \\\\\n",
    "    \\rightarrow g(z_i) = z_{i+1}\n",
    "\\end{equation*}\n",
    "\n",
    "Por último se necesita ver que _initial guess_ usar. Para este problema se usará $initial\\_guess = 0.5$, esto se debe a que el valor de $y_0 = 1$ así que se usará un valor cercano a este."
   ]
  },
  {
   "cell_type": "markdown",
   "metadata": {},
   "source": [
    "\n",
    "- Método de Newton. Debe explicar cual es el 'f', su derivada y el _initial guess_ a usar. <span style=\"color:blue; font-size: 2em\"> **10 puntos**</span> "
   ]
  },
  {
   "cell_type": "markdown",
   "metadata": {},
   "source": [
    "Para este método, queremos encontrar iterativamente la raíz de la función $ f(x) $, es decir, el número $ r $ para el que $ f (r) = 0 $. Por lo cual necesitamos:\n",
    "\n",
    "\\begin{equation} x_0 = initial\\_guess \\end{equation}\n",
    "\\begin{equation} x_{i+1} = x_i - \\cfrac{f(x_i)}{f'(x_i)} \\end{equation}\n",
    "\n",
    "Como se ve se necesita un _initial guess_, el cual será el mismo que se usará para la pregunta de punto fijo, es decir, $initial\\_guess = 0.5$. Ahora, necesitamos tener la función $f(x_i)$ y también la derivada de esta $f'(x_i)$, es decir, necesitamos la función $f(y_{i+1})$ obtenida en la sección de bisección:\n",
    "\n",
    "\\begin{equation*}\n",
    "    \\dfrac{50}{M}\\left(y_{i+1}\\cos{(100*(i+1)/M+y_{i+1})}+y_i\\cos{(100*i/M + y_i)}\\right)-y_{i+1} + y_i = 0\\\\\n",
    "    f(y_{i+1}) = 0\n",
    "\\end{equation*}\n",
    "\n",
    "La derivada de esta función se obtendrá usando la libreria Sympy como se muestra a continuación:"
   ]
  },
  {
   "cell_type": "code",
   "execution_count": 5,
   "metadata": {},
   "outputs": [
    {
     "data": {
      "text/plain": [
       "-1 + 50*(-x*sin(x + (100*i + 100)/M) + cos(x + (100*i + 100)/M))/M"
      ]
     },
     "execution_count": 5,
     "metadata": {},
     "output_type": "execute_result"
    }
   ],
   "source": [
    "x = Symbol('x')\n",
    "y = Symbol('y')\n",
    "M = Symbol('M')\n",
    "i = Symbol('i')\n",
    "\n",
    "#Por temas de simplificacion se usara \"x\" como el \"y_i+1\", ademas no se puedes escribir variable de esa manera en python.\n",
    "\n",
    "f = (50/(M)) * (x*(cos(100*(i+1)/M + x)) + y*(cos(100*i/M + y))) - x + y \n",
    "fprime = f.diff(x)\n",
    "fprime"
   ]
  },
  {
   "cell_type": "markdown",
   "metadata": {},
   "source": [
    "obteniendo que la derivada de $f$ es:\n",
    "\n",
    "\\begin{equation*}\n",
    "    f'(y_{i+1}) = \\dfrac{50}{M}\\left(-y_{i+1}\\sin{(100*(i+1)/M+y_{i+1})}+\\cos{(100*i/M + y_i)}\\right)- 1 \\\n",
    "\\end{equation*}\n",
    "\n",
    "Ahora tenemos todo lo que necesitamos para implementar el Método de Newton, punto fijo y biseccion.\n",
    "\n",
    "Por ultimo, la funcion $g(x_i)$ del método de Newton queda de la siguiente manera usando las funciones obtenidas:"
   ]
  },
  {
   "cell_type": "code",
   "execution_count": 6,
   "metadata": {},
   "outputs": [
    {
     "data": {
      "text/plain": [
       "x - (-x + y + 50*(x*cos(x + (100*i + 100)/M) + y*cos(y + 100*i/M))/M)/(-1 + 50*(-x*sin(x + (100*i + 100)/M) + cos(x + (100*i + 100)/M))/M)"
      ]
     },
     "execution_count": 6,
     "metadata": {},
     "output_type": "execute_result"
    }
   ],
   "source": [
    "#se usa \"x\" como \"y_i+1\" para simplificar el ejercicio\n",
    "g = x - f/fprime\n",
    "g\n"
   ]
  },
  {
   "cell_type": "markdown",
   "metadata": {},
   "source": [
    "\n",
    "\n",
    "## 2.- Implementación\n",
    "Aquí usted debe implementar cada uno de los algoritmos propuestos en la pregunta anterior de la forma que los explicó. \n",
    "Usted tendrá que considerar un presupuesto $N\\_budget$ de *operaciones elementales*, es decir, cada vez que en su implementación realice una operación elemental la debe descontar de su presupuesto y el algoritmo debe retornar el vector $\\mathbf{y}$ de soluciones encontradas hasta donde pudo obtener una solución.\n",
    "Si el presupuesto es menor a lo que necesita para poder obtener las $M\\_$intervals raices, el vector debe retornar NaN en las componentes que no pudo obtener. Condicionales no se consideran operaciones elementales pero si hubieran operaciones elementales dentro de un condicional debén incluirse y descontarse del presupuesto cada vez que se realicen.\n",
    "El costo de cada operación viene dado por la siguiente tabla: <br> \n",
    "\n",
    "|Operaciones elementales|Costo|\n",
    "|:----------:|:-------------:|\n",
    "| +,-,*,/ |  1 |\n",
    "| Funciones Elementales (trig, etc) |    50   |\n",
    "\n",
    "- Método de la Bisección. <span style=\"color:blue; font-size: 2em\"> **15 puntos**</span> \n",
    "\n",
    " ```python\n",
    "'''\n",
    "Input: \n",
    "M_intervals - (integer) Number of intervals that the domain [0,100] will be divided.\n",
    "N_budget - (integer) Budget for the number of allowed of elemental operations.\n",
    "tol - (double) Tolerance for the root, it must be greater or equal to 0.\n",
    "Output:\n",
    "y - (double-array) The values of y(x_i) for all the values of x_i. The dimension of this vector is M+1, it must include the initial value. The vector should return NaN if it could not compute any of the values required.\n",
    "'''\n",
    "def bisect_ode_solver(M_intervals=10,N_budget=1e4,tol=1e-8):\n",
    "    y = np.full(M_intervals+1,np.nan)\n",
    "    ...\n",
    "    return y\n",
    "```\n"
   ]
  },
  {
   "cell_type": "markdown",
   "metadata": {},
   "source": [
    "Para la construccion del algoritmo de biseccion se usara como base la funcion de biseccion encontrada en [04_roots_of_1D_equations.ipynb](https://github.com/tclaudioe/Scientific-Computing/blob/master/SC1/04_roots_of_1D_equations.ipynb) (31-03-2019), solo que en este caso la cambiaremos un poco y la agregaremos algunos parametros mas:"
   ]
  },
  {
   "cell_type": "code",
   "execution_count": 75,
   "metadata": {},
   "outputs": [],
   "source": [
    "#Funcion de biseccion, a la cual se le entrega la funcion f, el intervalo [a,b], el valor actual de y_i, la iteracion\n",
    "#en la que se encuentra representada por \"valor_i\", el valor de M, el valor de N_budget y por ultimo la tolerancia que se \n",
    "#le entrega.\n",
    "\n",
    "def bisect(f, a, b, y_i , valor_i , M, N_budget, tol=1e-8):\n",
    "    \n",
    "    # En esta parte se evaluara la funcion f para los valores a y b entregados por el intervalo\n",
    "    # Ademas de esto se descuenta la cantidad de operaciones elementales, que en este caso seria\n",
    "    # 114 de costo para la funcion f\n",
    "    fa = f(a, y_i , valor_i , M)\n",
    "    N_budget = N_budget - 114\n",
    "    \n",
    "    fb = f(b, y_i , valor_i , M)\n",
    "    N_budget = N_budget - 114\n",
    "    \n",
    "    i = 0\n",
    "    \n",
    "    \n",
    "    # Se chequea que el intervalo no de negativo, sino retorna un arreglo con un False el cual se usa para \n",
    "    # poder probar otro nuevo intervalo en la funcion y ademas el valor de N_budget que tendremos que\n",
    "    # actualizar\n",
    "    if np.sign(fa*fb) >= 0:\n",
    "        return [False, N_budget]\n",
    "  \n",
    "\n",
    "    # Entramos a un while que comprobara que la distancia entre los valores a y b no sea menor a la tolerancia\n",
    "    # sino se detendra y nos entregara el valor mas cercano a la raiz que pudo obtener bajo la tolerancia.\n",
    "    while(b-a)/2 > tol:\n",
    "        \n",
    "        #Cada vez que comienza el while, resta la comprobacion de (b-a)/2 \n",
    "        N_budget = N_budget - 2\n",
    "        \n",
    "        #creo \"c\" y se lo resto a N_budget\n",
    "        c = (a+b)/2.\n",
    "        N_budget = N_budget - 2\n",
    "        \n",
    "        #Evaluo a fc con los valores que tengo y despues procedo a restarselo al N_budget\n",
    "        fc = f(c, y_i , valor_i , M)\n",
    "        N_budget = N_budget - 114\n",
    "\n",
    "        # Si encuentra la raiz termina\n",
    "        if fc == 0:\n",
    "            print('f(c)==0')\n",
    "            break\n",
    "            \n",
    "        #Si pasa el if anterior procedo a comprobar el elif por lo tanto le resto 1 a N_budget\n",
    "        elif np.sign(fa*fc) < 0:\n",
    "            b = c\n",
    "            fb = fc\n",
    "        else:\n",
    "            a = c\n",
    "            fa = fc\n",
    "    \n",
    "        i += 1\n",
    "        #esta es la resta del elif y la suma al \"i\"\n",
    "        N_budget = N_budget -2\n",
    "        \n",
    "    # Por ultimo obtengo el valor de la raiz de la funcion en base a la tolerancia\n",
    "    # y le resto 2 al N_budget, ya que es una suma y una division\n",
    "    xc = (a+b)/2.0\n",
    "    N_budget = N_budget -2\n",
    "    \n",
    "    #los guardo en un arreglo ya que necesito guardas el xc y el N_budget.\n",
    "    return [xc, N_budget]"
   ]
  },
  {
   "cell_type": "markdown",
   "metadata": {},
   "source": [
    "Por ultimo usando la funcion de biseccion antes creada en la funcion bisect_ode_solver podemos obtener el vector $y$ de soluciones:"
   ]
  },
  {
   "cell_type": "code",
   "execution_count": 76,
   "metadata": {},
   "outputs": [],
   "source": [
    "def bisect_ode_solver(M_intervals=100,N_budget=1e4,tol=1e-8):\n",
    "    # se cambio como parametro inicial M_intervals=100\n",
    "    y = np.full(M_intervals+1,np.nan)\n",
    "    \n",
    "    # Se crea la funcion f(x) vista en la pregunta de biseccion. Para todo el desarrollo se usara\n",
    "    # x = y_i+1 para simplificar la vista de las ecuaciones y hacerlo un poco mas familiar a lo\n",
    "    # que siempre se ve en los desarrollos de ecuaciones.\n",
    "    f = lambda x, y, i, M: (50/(M)) * (x*(cos(100*(i+1)/M + x)) + y*(cos(100*i/M + y))) - x + y \n",
    "    \n",
    "    # Agregamos el primer valor de y_0 al arreglo de soluciones\n",
    "    y_i = 1.0\n",
    "    y[0]= y_i\n",
    "    \n",
    "    \n",
    "    # Entramos a un for que realizara M iteraciones para encontrar las soluciones de raiz de cada y_i\n",
    "    for i in range(M_intervals):\n",
    "        \n",
    "        # Entramos a un for el cual ira incrementando \"j\" si es que el intervalo de [-(2^j) , 2^j] no sirve.\n",
    "        for j in range(9): \n",
    "            # Le asignamos los valores que tomara en el intervalo los valores a y b [a,b]\n",
    "            a = -(2**(j+1))\n",
    "            b = 2**(j+1)\n",
    "            # Le restamos a N_budget el costo de realizar estas 2 operaciones\n",
    "            N_budget = N_budget - 2*(j+1)    \n",
    "            # Ahora se procede a remplazar los valores para la funcion de biseccion que creamos anteriormente\n",
    "            y_temp = bisect(f, a , b , y_i , i , M_intervals, N_budget, tol)\n",
    "            \n",
    "            \n",
    "            \n",
    "            # Actualizamos N_budget con su nuevo valor obtenido de la funcion de biseccion.\n",
    "            # Por ultimo comprobamos que no sea menor que cero, sino detenmos el\n",
    "            # algoritmo y nos quedamos con las soluciones a las que llegamos\n",
    "            N_budget = y_temp[1]\n",
    "            \n",
    "            if (N_budget < 0):\n",
    "                break\n",
    "                \n",
    "            # Si es que el valor que nos entrega y_temp no es falso (es decir que fa*fb < 0)\n",
    "            # se entra al if\n",
    "            if (y_temp[0] != False):\n",
    "                # Remplazamos el valor de y_i por la raiz encontrada realizando biseccion\n",
    "                y_i = y_temp[0]\n",
    "                #lo agregamos al vector de soluciones\n",
    "                y[i+1]=y_i\n",
    "                break\n",
    "                \n",
    "            # Este paso solo se realiza si probando el intervalo de j+1 = 9 no basta para que se encuentre un\n",
    "            # intervalo valido fa * fb < 0\n",
    "            if(j == 8):\n",
    "                y_temp = bisect(f, -1000 , 1000 , y_i , i , M_intervals, N_budget, tol)\n",
    "                \n",
    "        if N_budget <= 0:\n",
    "            break\n",
    "    return y"
   ]
  },
  {
   "cell_type": "markdown",
   "metadata": {},
   "source": [
    "Se realiza una prueba de como entrega los datos, usando los valores prefijados en la funcion:"
   ]
  },
  {
   "cell_type": "code",
   "execution_count": 77,
   "metadata": {},
   "outputs": [
    {
     "data": {
      "text/plain": [
       "array([1.        , 1.0370511 , 0.56635009,        nan,        nan,\n",
       "              nan,        nan,        nan,        nan,        nan,\n",
       "              nan,        nan,        nan,        nan,        nan,\n",
       "              nan,        nan,        nan,        nan,        nan,\n",
       "              nan,        nan,        nan,        nan,        nan,\n",
       "              nan,        nan,        nan,        nan,        nan,\n",
       "              nan,        nan,        nan,        nan,        nan,\n",
       "              nan,        nan,        nan,        nan,        nan,\n",
       "              nan,        nan,        nan,        nan,        nan,\n",
       "              nan,        nan,        nan,        nan,        nan,\n",
       "              nan,        nan,        nan,        nan,        nan,\n",
       "              nan,        nan,        nan,        nan,        nan,\n",
       "              nan,        nan,        nan,        nan,        nan,\n",
       "              nan,        nan,        nan,        nan,        nan,\n",
       "              nan,        nan,        nan,        nan,        nan,\n",
       "              nan,        nan,        nan,        nan,        nan,\n",
       "              nan,        nan,        nan,        nan,        nan,\n",
       "              nan,        nan,        nan,        nan,        nan,\n",
       "              nan,        nan,        nan,        nan,        nan,\n",
       "              nan,        nan,        nan,        nan,        nan,\n",
       "              nan])"
      ]
     },
     "execution_count": 77,
     "metadata": {},
     "output_type": "execute_result"
    }
   ],
   "source": [
    "bisect_ode_solver()"
   ]
  },
  {
   "cell_type": "markdown",
   "metadata": {},
   "source": [
    "\n",
    "\n",
    "- Iteración de Punto Fijo (Restricción: Aquí no se puede usar el método de Newton). <span style=\"color:blue; font-size: 2em\"> **15 puntos**</span> \n",
    "\n",
    "```python\n",
    "'''\n",
    "Input: \n",
    "M_intervals - (integer) Number of intervals that the domain [0,100] will be divided.\n",
    "N_budget - (integer) Budget for the number of allowed of elemental operations.\n",
    "tol - (double) Tolerance for the root, it must be greater or equal to 0.\n",
    "Output:\n",
    "y - (double-array) The values of y(x_i) for all the values of x_i. The dimension of this vector is M+1, it must include the initial value. The vector should return NaN if it could not compute any of the values required.\n",
    "'''\n",
    "def fpi_ode_solver(M_intervals=10,N_budget=1e4,tol=1e-8):\n",
    "    y = np.full(M_intervals+1,np.nan)\n",
    "    ...\n",
    "    return y\n",
    "```"
   ]
  },
  {
   "cell_type": "markdown",
   "metadata": {},
   "source": [
    "Para la construccion del algoritmo de punto fijo se usara como base la funcion de punto fijo encontrada en [04_roots_of_1D_equations.ipynb](https://github.com/tclaudioe/Scientific-Computing/blob/master/SC1/04_roots_of_1D_equations.ipynb)(31-03-2019), solo que en este caso la cambiaremos un poco y la agregaremos algunos parametros mas:"
   ]
  },
  {
   "cell_type": "code",
   "execution_count": 78,
   "metadata": {},
   "outputs": [],
   "source": [
    "# Funcion de punto fijo, a la cual se le entrega la funcion g encontrada en la pregunta de construccion, el initial guess, \n",
    "# el valor actual de y_i, la iteracion en la que se encuentra representada por \"valor_i\", el valor de M, el valor de k\n",
    "# el cual se encarga de ver cuantas iteraciones va hacer hasta encontrar una solucion, el valor de N_budget y por ultimo \n",
    "# la tolerancia que se le entrega.\n",
    "\n",
    "def fpi(g, x0, y_i , valor_i , M,  k,N_budget, tol):\n",
    "    #se crea una lista con numpy el cual estara vacio y de largo k+1. En este vector se iran agregando\n",
    "    #las aproximaciones al punto fijo encontradas en cada iteracion\n",
    "    x = np.empty(k+1)\n",
    "    #agregamos el initial guess al vector en la primera posicion\n",
    "    x[0] = x0\n",
    "    #creamos la variable de error, este sera el error entre x_i+1 y x_i el cual se ira guardando en cada\n",
    "    #iteracion\n",
    "    error_i = np.inf\n",
    "    \n",
    "    #entramos al for en el que se realizaran las iteraciones k veces. Cabe destacar que cuando el error entre x_i+1 y x_i \n",
    "    #es menor a la tolerancia entregada el algoritmo termina y toma el ultimo valor obtenido.\n",
    "    for i in range(k):\n",
    "        # Se evalua la funcion \"g\" con los valores entregados a la funcion y lo agregamos al vector de x.\n",
    "        # Tambien le restamos el valor operacional de obtener la funcion \"g\" el cual tiene un coste de 113.\n",
    "        x[i+1] = g(x[i], y_i , valor_i , M)\n",
    "        N_budget = N_budget - 113\n",
    "        \n",
    "        #obtenemos el error entre el x_i actual y el anterior. Tambien le restamos la operacion de realizar la resta\n",
    "        #al N_budget\n",
    "        error_i = abs(x[i+1]-x[i])\n",
    "        N_budget = N_budget - 1\n",
    "        \n",
    "        #se detiene al ser el error menor a la tolerancia dada\n",
    "        if (error_i <= tol):\n",
    "            j=i\n",
    "            break\n",
    "    #guardamos en un arreglo el ultimo valor encontrado y el N_budget\n",
    "    return [x[j+1], N_budget]"
   ]
  },
  {
   "cell_type": "markdown",
   "metadata": {},
   "source": [
    "Por ultimo usando la funcion de fpi antes creada en la funcion fpi_ode_solver podemos obtener el vector $y$ de soluciones:"
   ]
  },
  {
   "cell_type": "code",
   "execution_count": 79,
   "metadata": {},
   "outputs": [],
   "source": [
    "def fpi_ode_solver(M_intervals=100,N_budget=1e4,tol=1e-8):\n",
    "    # se cambio como parametro inicial M_intervals=100\n",
    "    y = np.full(M_intervals+1,np.nan)\n",
    "    \n",
    "    #Se crea la funcion de g(x) encontrada en la seccion de construccion. Cabe mencionar que x = y_i+1\n",
    "    #solo que por temas de familiarizarse con la funcion se usa x\n",
    "    g_punto_fijo = lambda x, y, i, M: (50/(M)) * (x*(cos(100*(i+1)/M + x)) + y*(cos(100*i/M + y)))  + y \n",
    "    \n",
    "    # Agregamos el primer valor de y_0 al arreglo de soluciones\n",
    "    y_i = 1.0\n",
    "    y[0]= 1.0\n",
    "    \n",
    "     # Entramos a un for que realizara M iteraciones para encontrar las soluciones de raiz de cada y_i\n",
    "    for i in range(M_intervals):\n",
    "        # Le entregamos los datos a nuestra funcion fpi creada anteriormente, el initial guess es 0.5 como se dijo\n",
    "        # y el k siempre sera 100, la idea es que no haga los 100 nunca y siempre salga antes de la funcion\n",
    "        # por la tolerancia, por eso se le a entregado un valor grande como 100\n",
    "        y_temp = fpi(g_punto_fijo, 0.5, y_i, i, M_intervals, 100,N_budget, tol)\n",
    "        \n",
    "        #actualizamos el valor de N_budget y si ya nos entrega un valor negativo, nos salimos del for y no guardamos\n",
    "        # el ultimo valor obtenido.\n",
    "        N_budget = y_temp[1]\n",
    "        if (N_budget <= 0):\n",
    "            break\n",
    "        # Remplazamos el valor de y_i por el punto fijo encontrado y lo agregamos al vector\n",
    "        y_i = y_temp[0]\n",
    "        y[i+1] = y_i\n",
    "    \n",
    "    # Retornamos el vector con las raices encontradas\n",
    "    return y"
   ]
  },
  {
   "cell_type": "markdown",
   "metadata": {},
   "source": [
    "Se realiza una prueba de como entrega los datos, usando los valores prefijados en la funcion:"
   ]
  },
  {
   "cell_type": "code",
   "execution_count": 80,
   "metadata": {},
   "outputs": [
    {
     "data": {
      "text/plain": [
       "array([1.        , 1.03705111, 0.5663501 ,        nan,        nan,\n",
       "              nan,        nan,        nan,        nan,        nan,\n",
       "              nan,        nan,        nan,        nan,        nan,\n",
       "              nan,        nan,        nan,        nan,        nan,\n",
       "              nan,        nan,        nan,        nan,        nan,\n",
       "              nan,        nan,        nan,        nan,        nan,\n",
       "              nan,        nan,        nan,        nan,        nan,\n",
       "              nan,        nan,        nan,        nan,        nan,\n",
       "              nan,        nan,        nan,        nan,        nan,\n",
       "              nan,        nan,        nan,        nan,        nan,\n",
       "              nan,        nan,        nan,        nan,        nan,\n",
       "              nan,        nan,        nan,        nan,        nan,\n",
       "              nan,        nan,        nan,        nan,        nan,\n",
       "              nan,        nan,        nan,        nan,        nan,\n",
       "              nan,        nan,        nan,        nan,        nan,\n",
       "              nan,        nan,        nan,        nan,        nan,\n",
       "              nan,        nan,        nan,        nan,        nan,\n",
       "              nan,        nan,        nan,        nan,        nan,\n",
       "              nan,        nan,        nan,        nan,        nan,\n",
       "              nan,        nan,        nan,        nan,        nan,\n",
       "              nan])"
      ]
     },
     "execution_count": 80,
     "metadata": {},
     "output_type": "execute_result"
    }
   ],
   "source": [
    "fpi_ode_solver()"
   ]
  },
  {
   "cell_type": "markdown",
   "metadata": {},
   "source": [
    "\n",
    "- Método de Newton. <span style=\"color:blue; font-size: 2em\"> **15 puntos**</span> \n",
    "\n",
    "```python\n",
    "'''\n",
    "Input: \n",
    "M_intervals - (integer) Number of intervals that the domain [0,100] will be divided.\n",
    "N_budget - (integer) Budget for the number of allowed of elemental operations.\n",
    "tol - (double) Tolerance for the root, it must be greater or equal to 0.\n",
    "Output:\n",
    "y - (double-array) The values of y(x_i) for all the values of x_i. The dimension of this vector is M+1, it must include the initial value. The vector should return NaN if it could not compute any of the values required.\n",
    "'''\n",
    "def newton_ode_solver(M_intervals=10,N_budget=1e4,tol=1e-8):\n",
    "    y = np.full(M_intervals+1,np.nan)\n",
    "    ...\n",
    "    return y\n",
    "```"
   ]
  },
  {
   "cell_type": "markdown",
   "metadata": {},
   "source": [
    "Para la construccion del algoritmo del Método de Newton se usara como base la funcion de Newton encontrada en [04_roots_of_1D_equations.ipynb](https://github.com/tclaudioe/Scientific-Computing/blob/master/SC1/04_roots_of_1D_equations.ipynb) (31-03-2019), solo que en este caso la cambiaremos un poco y la agregaremos algunos parametros mas:"
   ]
  },
  {
   "cell_type": "code",
   "execution_count": 81,
   "metadata": {},
   "outputs": [],
   "source": [
    "def newton_method(f, fp, x0, y_i , valor_i , M,N_budget, rel_error=1e-8, m=1):\n",
    "    \n",
    "    #Se inicializa hybrid error el cual se usara para parar el algoritmo en base a la tolerancia\n",
    "    hybrid_error = 100\n",
    "\n",
    "    \n",
    "    #Contador de iteraciones\n",
    "    i = 1\n",
    "    \n",
    "    #Se entra al while el cual realizara las iteraciones necesarias para encontrar la raiz. \n",
    "    #El while se detendra ya sea que el hybrid_error sea menor que la tolerancia que se le entrega al problema\n",
    "    #o si el error no se hace demaciado grande (no converge) o si realiza demasiadas iteraciones\n",
    "    while (hybrid_error > rel_error and hybrid_error < 1e12 and i < 1e4):\n",
    "        \n",
    "        #Se evalua la nueva iteracion de Newton y ademas le restamos todas las operaciones al N_budget que es 230\n",
    "        #en total es coste de todas las operaciones presentes\n",
    "        x1 = x0-m*f(x0,y_i , valor_i , M)/fp(x0,y_i , valor_i , M)\n",
    "        N_budget =N_budget - 230\n",
    "        \n",
    "        #Se Chequea si se encontro la solucion, ademas se le resta al N_budget las operaciones realizadas en f\n",
    "        #el cual tiene un valor de 114\n",
    "        if f(x1,y_i , valor_i , M) == 0.0:\n",
    "            hybrid_error = 0.0\n",
    "            break\n",
    "        N_budget = N_budget-114\n",
    "        \n",
    "        #Se actualiza el hybrid_error y se le resta la cantidad de operaciones que son 2\n",
    "        hybrid_error = abs(x1-x0)/np.max([abs(x1),1e-12])\n",
    "        N_budget = N_budget - 2\n",
    "\n",
    "        \n",
    "        #incrementamos el contador de iteraciones y se lo descontamos a N_budget la operacion de suma\n",
    "        i += 1\n",
    "        N_budget = N_budget - 1\n",
    "        \n",
    "        #Actualizamos el valor de x0 al nuevo valor encontrado\n",
    "        x0 = x1\n",
    "    \n",
    "    #Chequeamos si se encontro una solucion o si la funcion diverge\n",
    "    if hybrid_error < rel_error: \n",
    "        #guardamos la solucion encontrada y el N_budget para actualizarlo\n",
    "        return [x1, N_budget]\n",
    "    elif i>=1e4:\n",
    "        return None\n",
    "    else:\n",
    "        return None"
   ]
  },
  {
   "cell_type": "markdown",
   "metadata": {},
   "source": [
    "Por ultimo usando la funcion de newton_method antes creada en la funcion newton_ode_solver podemos obtener el vector $y$ de soluciones:"
   ]
  },
  {
   "cell_type": "code",
   "execution_count": 82,
   "metadata": {},
   "outputs": [],
   "source": [
    "def newton_ode_solver(M_intervals=100,N_budget=1e4,tol=1e-8):\n",
    "    # se cambio como parametro inicial M_intervals=100\n",
    "    y = np.full(M_intervals+1,np.nan)\n",
    "    \n",
    "    #Se crea la funcion de f(x) y la derivada vistas en la seccion de construccion. Cabe mencionar que x = y_i+1\n",
    "    #solo que por temas de familiarizarse con la funcion se usa x\n",
    "    f = lambda x, y, i, M: (50/(M)) * (x*(cos(100*(i+1)/M + x)) + y*(cos(100*i/M + y))) - x + y \n",
    "    f_derivada = lambda x, y, i, M: -1 + 50*(-x*sin(x + (100*i + 100)/M) + cos(x + (100*i + 100)/M))/M\n",
    "    \n",
    "    # Agregamos el primer valor de y_0 al arreglo de soluciones\n",
    "    y_i = 1.0\n",
    "    y[0]= 1.0\n",
    "    \n",
    "    # Entramos a un for que realizara M iteraciones para encontrar las soluciones de raiz de cada y_i\n",
    "    for i in range(M_intervals):\n",
    "        # Le entregamos los datos a nuestra funcion newton_method creada anteriormente, el initial guess es 0.5 como se dijo\n",
    "        # en la seccion de construccion\n",
    "        y_temp = newton_method(f , f_derivada , 0.5, y_i, i, M_intervals,N_budget, tol)\n",
    "        \n",
    "        #actualizamos N_budget y comprobamos si no es menor a cero para ver si detenemos el algoritmo\n",
    "        N_budget = y_temp[1]\n",
    "        if N_budget <= 0:\n",
    "            break\n",
    "        \n",
    "        # Remplazamos el valor de y_i por el encontrado y lo agregamos al vector\n",
    "        y_i =y_temp[0]\n",
    "        y[i+1]=y_i\n",
    "    \n",
    "    # Retornamos el vector de \"y\" soluciones\n",
    "    return y"
   ]
  },
  {
   "cell_type": "markdown",
   "metadata": {},
   "source": [
    "Se realiza una prueba de como entrega los datos, usando los valores prefijados en la funcion:"
   ]
  },
  {
   "cell_type": "code",
   "execution_count": 83,
   "metadata": {},
   "outputs": [
    {
     "data": {
      "text/plain": [
       "array([1.        , 1.0370511 , 0.5663501 , 0.21938727, 0.08506076,\n",
       "       0.07296832, 0.17060101,        nan,        nan,        nan,\n",
       "              nan,        nan,        nan,        nan,        nan,\n",
       "              nan,        nan,        nan,        nan,        nan,\n",
       "              nan,        nan,        nan,        nan,        nan,\n",
       "              nan,        nan,        nan,        nan,        nan,\n",
       "              nan,        nan,        nan,        nan,        nan,\n",
       "              nan,        nan,        nan,        nan,        nan,\n",
       "              nan,        nan,        nan,        nan,        nan,\n",
       "              nan,        nan,        nan,        nan,        nan,\n",
       "              nan,        nan,        nan,        nan,        nan,\n",
       "              nan,        nan,        nan,        nan,        nan,\n",
       "              nan,        nan,        nan,        nan,        nan,\n",
       "              nan,        nan,        nan,        nan,        nan,\n",
       "              nan,        nan,        nan,        nan,        nan,\n",
       "              nan,        nan,        nan,        nan,        nan,\n",
       "              nan,        nan,        nan,        nan,        nan,\n",
       "              nan,        nan,        nan,        nan,        nan,\n",
       "              nan,        nan,        nan,        nan,        nan,\n",
       "              nan,        nan,        nan,        nan,        nan,\n",
       "              nan])"
      ]
     },
     "execution_count": 83,
     "metadata": {},
     "output_type": "execute_result"
    }
   ],
   "source": [
    "newton_ode_solver()"
   ]
  },
  {
   "cell_type": "markdown",
   "metadata": {},
   "source": [
    "## 3.- Visualización y Conclusiones\n",
    "Utilice el siguiente código para visualizar sus resultados. Se incluye esta función para que pueda visualizar sus resultados."
   ]
  },
  {
   "cell_type": "code",
   "execution_count": 84,
   "metadata": {
    "scrolled": false
   },
   "outputs": [
    {
     "data": {
      "application/vnd.jupyter.widget-view+json": {
       "model_id": "e06117fd78784661a3f2a37d135642cd",
       "version_major": 2,
       "version_minor": 0
      },
      "text/plain": [
       "interactive(children=(IntSlider(value=100, description='M_intervals', max=100000, min=100, step=100), IntSlide…"
      ]
     },
     "metadata": {},
     "output_type": "display_data"
    },
    {
     "data": {
      "text/plain": [
       "<function __main__.plot_solutions_of_ODE(M_intervals=10, N_budget=10000.0, log_tol=-8, shift=0.1)>"
      ]
     },
     "execution_count": 84,
     "metadata": {},
     "output_type": "execute_result"
    }
   ],
   "source": [
    "# Cabe mencionar que a la funcion se le agrego el metodo creado de la pregunta bonus, al cual llame metodo de la parabola.\n",
    "# Existen unos casos muy particurales en los que el metodo de la parabola entrega errores de matriz singular\n",
    "# Tener eso en cuenta al mover mucho los valores de los parametros. Por ultimo, los metodos de fpi, biseccion y Newton\n",
    "# funcionan para todos los casos bien.\n",
    "# se hizo que N_budget aumentara cada 1000 y no 100 como estaba antes predefinido\n",
    "\n",
    "def plot_solutions_of_ODE(M_intervals=10,N_budget=1e4,log_tol=-8,shift=0.1):\n",
    "    tol = 10**log_tol\n",
    "    x        = np.linspace(0,10,M_intervals+1)\n",
    "    y_bisec  = bisect_ode_solver(M_intervals,N_budget,tol)\n",
    "    y_fpi    = fpi_ode_solver(M_intervals,N_budget,tol)\n",
    "    y_newton = newton_ode_solver(M_intervals,N_budget,tol)\n",
    "    y_parabol = metodo_parabola(M_intervals,N_budget,tol)\n",
    "    plt.figure(figsize=(8,8))\n",
    "    plt.plot(x,y_bisec+shift,'b-',label='Bisección: y+'+str(shift))\n",
    "    plt.plot(x,y_fpi,'m-',label='FPI: y')\n",
    "    plt.plot(x,y_newton-shift,'g-',label='Newton: y-'+str(shift),linewidth=3,alpha=0.5)\n",
    "    plt.plot(x,y_parabol-(2*shift),'r-',label='Parabola: y-'+str(2.0*shift),linewidth=3,alpha=0.5)\n",
    "    plt.legend(loc='best')\n",
    "    plt.title('Plot of solutions with shift for visualization purposes')\n",
    "    plt.grid(True)\n",
    "    plt.show()\n",
    "    \n",
    "interact(plot_solutions_of_ODE,M_intervals=(100,100000,100),N_budget=(100,1000000,1000),log_tol=(-14,-1,1),shift=(-1,1,0.01))"
   ]
  },
  {
   "cell_type": "markdown",
   "metadata": {},
   "source": [
    "- **Conclusiones**. Escriba las conclusiones de lo aprendido en su tarea, estas deben ser sustentadas con los desarrollos y experimentos numéricos realizados.  <span style=\"color:blue; font-size: 2em\"> **15 puntos**</span> "
   ]
  },
  {
   "cell_type": "markdown",
   "metadata": {},
   "source": [
    "En base al desarrollo realizado en la construcción de los algoritmos para resolver la EDO, se esperaba que el metodo de biseccion fuera el que usara más recursos operacionales para resolver el problema, dado que tiene que realizar una cantidad más grande de iteraciones para poder encontrar la raíz, además del hecho de que el intervalo puede variar dependiendo de él $M$ que se le entregue a la función. Esto se refuto aun mas al ver la gráfica, ya que se comprobó con creces que el metodo de biseccion siempre encontrara menos soluciones de $y$ aunque se varíe cualquiera de los parámetros (M_intervals, N_budget, tolerancia), a excepcion de cuando se tienen los valores pre-definidos, en donde punto fijo y biseccion alcanzan a encontrar solo 3 soluciones de $y$, ya que el N_budget es muy pequeño.\n",
    "\n",
    "Por otra parte, se esperaba que el Método de Newton siempre estuviera delante de los demas metodos, pero esto no sucede en todos los casos, por ejemplo, en el caso de que el M_intervals sea pequeño (por ejemplo 100) el Método de Newton siempre será mejor que los demás, aunque se le varie la tolerancia o el N_budget, pero esto no sucede al ir aumentando el valor de M_intervals, ya que poco a poco el método de punto fijo va obteniendo más soluciones de $y$. Esto se debe a que al ir aumentando M_intervals se aumenta cada vez más la cantidad de iteraciones (cantidad de soluciones $y$ que se buscaran) que se realizaran, por lo cual a largo plazo el método de Newton tendrá un costo de operaciones elementales más grande, dado que la función de Newton en cada iteración que realiza para encontrar un $x_{i+1}$ válido le cuesta 347 y a la función de punto fijo le cuesta 114. Por lo tanto, el método de Newton encuentra soluciones de $x_{i+1}$ mas rápido que el de punto fijo, pero el hecho de tener que buscar mas y mas soluciones de $y$ hace que a la larga el método de punto dijo termine costando menos operaciones elementales.\n",
    "\n",
    "Por otro lado, el Método de la parábola que se construyó en la pregunta bonus está en un punto intermedio entre bisección y el método de Newton o punto fijo, es decir, la función que se construyó realiza una búsqueda rápida de soluciones de $y$ a un costo menor que el de bisección, pero nunca mejor que Newton o punto fijo. Esto puede ser debido a la manera en la que se construye la función o simplemente este método está en un punto intermedio.\n",
    "\n",
    "Como conclusión final, el mejor método para buscar soluciones en la EDO del problema es el de punto fijo, ya que a pesar de que el método de Newton es mejor en los casos de M_intervals pequeños, son muy pocos para diferenciarlo de la cantidad de casos para M_intervals en los que el método del punto fijo funciona mejor. Por último, al colocar tolerancias muy pequeñas (menores a $1e-14$ los métodos de Newton y punto fijo se van ajustando, es decir, la cantidad de soluciones $y$ que encuentras va volviéndose la misma."
   ]
  },
  {
   "cell_type": "markdown",
   "metadata": {},
   "source": [
    "-------"
   ]
  },
  {
   "cell_type": "markdown",
   "metadata": {},
   "source": [
    "# Instrucciones:\n",
    "\n",
    "* **Importante, Asegúrese de responder TODO lo que la pregunta pide.**\n",
    "* La estructura de la tarea es la siguiente:\n",
    "     1. Título, nombre de estudiante, email y rol.\n",
    "     2. Responder cada pregunta de forma personal.\n",
    "     5. Referencias. Es muy importante incluir todas las fuentes usadas, de otra forma se considera que lo no se ha citado adecuadamente es su trabajo.\n",
    "* La tarea debe ser realizada en `Jupyter Notebook` (`Python3`) entregado.\n",
    "* Se evaluará la correcta utilización de librerias `NumPy`, `SciPy`, `Matplotlib` y `ipywidgets`, entre otras, así como la **correcta implementación de algoritmos vectorizados**.\n",
    "* **MUY IMPORTANTE** El archivo de entrega debe denominarse TareaN-rol.tar.gz y _notebook_ debe tener como nombre TareaN-rol.ipynb, donde $N$ es el número de la tarea y debe contener un directorio con todos los archivos necesarios para ejecutar el notebook, junto con un archivo README indicando explícitamente las librerías o módulos utilizados, nombre y rol del estudiante. El no cumplimiento de esta regla significa calificación $0$.\n",
    "* El descuento por día de atraso será de $30$ puntos, con un máximo de 1 día de atraso. No se recibirán entregas después de este día.\n",
    "* Debe citar toda fuente de código externo. \n",
    "* El trabajo es personal, no se permite compartir código ni utilizar código de otros, aunque sí se sugiere discutir aspectos generales con sus compañeros.\n",
    "* En caso de sospecha de no cumplimiento de estas instrucciones, se solicitará al involucrado o la involucrada a aclarar la situación. Dependiendo de la justificación se decidirá su calificación, la cual podrá o no ser penalizada.\n",
    "* El no seguir estas instrucciones, implica descuentos en su nota obtenida."
   ]
  },
  {
   "cell_type": "markdown",
   "metadata": {},
   "source": [
    "# Anexo: Pregunta Bonus <span style=\"color:blue\"> **30 puntos**</span> \n",
    "\n",
    "_Los Avengers_, mientras ud. desarrollaba su solución propuesta, han estado trabajando arduamente en paralelo en un nuevo método de búsqueda de raíces que les pueda ser de ayuda.\n",
    "\n",
    "En particular, han desarrollado un método basado en el Método de la Secante. \n",
    "Sin embargo, en lugar de buscar aproximaciones de la raíz mediante secantes trazadas desde 2 _initial guess_, **se proyecta una parábola a partir de 3 _puntos iniciales dados_**.\n",
    "\n",
    "Para ello, se define una parábola de una forma conveniente, a partir de tres puntos $(x_0, f(x_0)), (x_1, f(x_1)),  (x_2, f(x_2))$:\n",
    "\\begin{align*}\n",
    "f(x) = a(x - x_2)^2 + b(x - x_2) + c.\n",
    "\\end{align*}\n",
    "\n",
    "Luego, se obtienen los coeficientes $a, b, c$ a partir de los 3 puntos indicados. \n",
    "Una vez definida la parábola, se elige el punto $x_3$ como **la intersección de la parábola con el eje x más cercana a $x_2$**.\n",
    "A partir de $x_3$, su correspondiente $f(x_3)$ y **junto a dos puntos previos más cercanos a él** se construye una nueva parábola y se continua de la misma forma. A continuación se presenta un _sketch_ gráfico referente al método ($r$ corresponse a la aproximación de la raíz $root$), obtenida desde la parábola construida con $x_0$, $x_1$ y $x_2$.\n",
    "\n",
    "<img src=\"parabola.png\" style=\"width:50%\">\n",
    "\n",
    "Se sugiere además _poner especial cuidado a la pérdida de significancia en este algoritmo._"
   ]
  },
  {
   "cell_type": "markdown",
   "metadata": {},
   "source": [
    "## B.1. Implementación\n",
    "\n",
    "Resuelva el problema de graficar la EDO anteriormente descrita, pero esta vez utilize este algoritmo para resolver la secuencia de problemas de busqueda de raíces. Implemente el algoritmo bajo las mismas condiciones de presupuesto de operaciones elementales. Comparelo con los algoritmos anteriores y explique claramente sus ventajas y desventajas. Se sugiere modificar la función ```python plot_solutions_of_ODE ``` para incluir ```python avengers_ode_solver``` si decide libremente aceptar realizar el bonus."
   ]
  },
  {
   "cell_type": "markdown",
   "metadata": {},
   "source": [
    "```python\n",
    "'''\n",
    "Input: \n",
    "M_intervals - (integer) Number of intervals that the domain [0,100] will be divided.\n",
    "N_budget - (integer) Budget for the number of allowed of elemental operations.\n",
    "tol - (double) Tolerance for the root, it must be greater or equal to 0.\n",
    "Output:\n",
    "y - (double-array) The values of y(x_i) for all the values of x_i. The dimension of this vector is M+1, it must include the initial value. The vector should return NaN if it could not compute any of the values required.\n",
    "'''\n",
    "def avengers_ode_solver(M_intervals=10,N_budget=1e4,tol=1e-8):\n",
    "    y = np.full(M_intervals+1,np.nan)\n",
    "    ...\n",
    "    return y\n",
    "```"
   ]
  },
  {
   "cell_type": "markdown",
   "metadata": {},
   "source": [
    "A continuacion se muestra la funcion del Metodo_de_parabola (nombre que se le asigno a este metodo), el cual realizara el planteamiento antes visto sobre parabolas para encontrar una raiz de una funcion f(x).\n",
    "Cabe destacar que se estudio desde [Parábola que pasa por 3 puntos](http://frodriguezdiaz.blogspot.com/2013/11/parabola-que-pasa-por-3-puntos.html) (01-04-2019) para el entendimiento del problema y tambien sobre [Resolver sistemas lineales con np.solve](https://riptutorial.com/es/numpy/example/12987/resolver-sistemas-lineales-con-np-solve-) (01-04-2019).\n",
    "\n",
    "Basicamente lo que se realiza en el codigo siguiente es encontrar la raiz en base a creaciones de parabolas con 3 puntos. Partimos obteniendo los puntos $( (x0, f0(x0)), (x1, f1(x1)),  (x2, f2(x2)))$, con los cuales podremos obtener los valores \n",
    "$a$, $b$ y $c$:\n",
    "\n",
    "\\begin{align*}\n",
    "f1 = a·x0^2 + b·x0 + c\\\\\n",
    "f2 = a·x1^2 + b·x1 + c\\\\\n",
    "f3 = a·x2^2 + b·x2 + c\n",
    "\\end{align*}\n",
    "\n",
    "Una vez obtenidos los valores de $a$, $b$ y $c$ podremos calcular los puntos donde la ecuacion cuadratica se vuelve cero:\n",
    "\n",
    "\\begin{align*}\n",
    "x = \\frac {-b \\pm \\sqrt {b^2 - 4ac}}{2a}\n",
    "\\end{align*}\n",
    "\n",
    "Con estas dos soluciones que se obtendran, se vera cual esta mas cercana al punto $x2$ planteado en un principio y se escogera esa. Una vez que ya tenemos el punto $x3$ que necesitamos, tomaremos los 2 puntos previos ($x0$, $x1$, $x2$) mas cercanos a $x3$ y los usaremos para realizar todo el procedimiento denuevo, es decir, $x3$ se volvera nuestro nuevo $x2$ y los valores de $x0$ y $x1$ se volveran los dos puntos previos mas cercanos a $x3$.\n",
    "\n",
    "Cabe mencionar que siempre se usaran los valores iniciales de $x0= 0.9$, $x1 = 0.7$ y $x2 = 0.5$, esto se debe a que se escojieron 3 valores cualquiera que fueran cercanos al valor inicial de $y_0 = 1$"
   ]
  },
  {
   "cell_type": "code",
   "execution_count": 51,
   "metadata": {},
   "outputs": [],
   "source": [
    "def Metodo_de_parabola(f, x0, x1,x2 , y_i , valor_i , M, N_budget, tol=1e-14):\n",
    "    \n",
    "    # Se le dice que realize 30 iteraciones, pero generalmente siempre encontrara la mejor solucion \n",
    "    # antes de esto gracias a la tolerancia\n",
    "\n",
    "    for i in range(30):\n",
    "        # En esta parte se evaluara la funcion f para los 3 valores de x0,x1,x2. Cada uno costanto 114 en operacion.\n",
    "        f1 = f(x0, y_i , valor_i , M)\n",
    "        N_budget = N_budget - 114\n",
    "\n",
    "        f2 = f(x1, y_i , valor_i , M)\n",
    "        N_budget = N_budget - 114\n",
    "\n",
    "        f3 = f(x2, y_i , valor_i , M)\n",
    "        N_budget = N_budget - 114\n",
    "        \n",
    "        \n",
    "        # Se crean arreglos del sistema lineal que se necesita resolver\n",
    "        A = np.array([[(x0)**2, x0, 1],\n",
    "                      [(x1)**2, x1, 1],\n",
    "                      [(x2)**2, x2, 1]],dtype='float')\n",
    "        b = np.array([f1, f2, f3],dtype='float')\n",
    "        \n",
    "        # Tomaremos la resolucion de A y b como 2 funciones elementales y se lo descontaremos a N_budget\n",
    "        N_budget = N_budget - 100\n",
    "\n",
    "        # Se obtiene un vector con los valores a,b,c del sistema lineal    \n",
    "        vector_de_valores  = np.linalg.solve(A, b)\n",
    "        \n",
    "        #linalg.solve se tomara como funcion elemental asi que seran 50 de coste\n",
    "        N_budget = N_budget - 50\n",
    "        \n",
    "        # los igualamos a variables a, b y c para que sean mas facil de representar\n",
    "        a = vector_de_valores[0]\n",
    "        b = vector_de_valores[1]\n",
    "        c = vector_de_valores[2] \n",
    "        \n",
    "        ##### SECCION QUE RESUELVE LA ECUACION CUADRATICA QUE SE TIENE #######\n",
    "        d = abs((b**2) - (4*a*c))\n",
    "        N_budget = N_budget - 5\n",
    "        \n",
    "\n",
    "        # Se encuentran 2 soluciones las cuales seran los 2 lados de la parabola que chocan con el eje x\n",
    "        sol1 = (-b-np.sqrt(d))/(2*a)\n",
    "        sol2 = (-b+np.sqrt(d))/(2*a)\n",
    "        ######################################################################\n",
    "        \n",
    "        # obtenemos la distancia que tiene cada solucion con el punto x2\n",
    "        diferencia_1 = abs(x2 - sol1)\n",
    "        diferencia_2 = abs(x2 - sol2)\n",
    "        \n",
    "        # Le restamos a N_budget las operaciones realizadas tanto para sol1, sol2, diferencia_1 y diferencia_2\n",
    "        N_budget = N_budget - 12\n",
    "        \n",
    "        # Comparamos si la distancia de la sol1 con x2 es mas pequeña que sol2\n",
    "        if (diferencia_1 <= diferencia_2):\n",
    "            #sol1 es mas cercana a x2\n",
    "            x3 = sol1\n",
    "        else:\n",
    "            # Sol2 es mas cercana a x2\n",
    "            x3 = sol2\n",
    "        \n",
    "\n",
    "        # Obtenemos un error entre la variable nueva y su valor anterior, de esta forma podremos detener\n",
    "        # el algoritmo cuado este sea menos a la tolerancia. Esto es para no tener que realizar 30 iteraciones\n",
    "        error = abs (x3 -x2)\n",
    "        if (error < tol):\n",
    "            break\n",
    "            \n",
    "        ### SECCION EN LA QUE COMPROBAREMOS CUALES PUNTOS x0, x1 o x2 SON MAS CERCANOS A X3  ########    \n",
    "        distancia_x3_x2=abs(x2 - x3)\n",
    "        distancia_x3_x1=abs(x1 - x3)\n",
    "        distancia_x3_x0=abs(x0 - x3)\n",
    "        N_budget = N_budget - 3\n",
    "        \n",
    "        # comprobamos en todos estos if cual punto es mas cercano a x3, de esta forma podemos\n",
    "        # igualar los valores a nuevos x0,x1 y x2. Cabe destacar que x2 siempre se remplaza\n",
    "        # por el valor de x3 encontrado, los que pueden variar seran los valores de x0 e x1\n",
    "        if (distancia_x3_x2 <= distancia_x3_x1 and distancia_x3_x1 <= distancia_x3_x0):\n",
    "            x0 = x1\n",
    "            x1 = x2\n",
    "            x2 = x3\n",
    "        elif (distancia_x3_x2 >= distancia_x3_x1 and distancia_x3_x1 >= distancia_x3_x0):\n",
    "            x2 = x3\n",
    "        elif (distancia_x3_x2 <= distancia_x3_x1 and distancia_x3_x2 >= distancia_x3_x0):\n",
    "            x1 = x0\n",
    "            x0 = x2\n",
    "            x2 = x3\n",
    "        elif (distancia_x3_x2 >= distancia_x3_x1 and distancia_x3_x2 <= distancia_x3_x0):\n",
    "            x0 = x2\n",
    "            x2 = x3\n",
    "        elif (distancia_x3_x2 <= distancia_x3_x0 and distancia_x3_x0 <= distancia_x3_x1):\n",
    "            x1 = x2\n",
    "            x2 = x3\n",
    "        elif (distancia_x3_x1 <= distancia_x3_x0 and distancia_x3_x0 <= distancia_x3_x2):\n",
    "            x2 = x3\n",
    "        ################################################################################################\n",
    "    #los guardo en un arreglo ya que necesito guardas el xc y el N_budget.\n",
    "    return [x2,N_budget]"
   ]
  },
  {
   "cell_type": "markdown",
   "metadata": {},
   "source": [
    "La siguiente funcion usara el método de la parabola para encontrar las $y$ soluciones:"
   ]
  },
  {
   "cell_type": "code",
   "execution_count": 52,
   "metadata": {},
   "outputs": [],
   "source": [
    "def metodo_parabola(M_intervals=100,N_budget=1e4,tol=1e-8):\n",
    "    # se cambio como parametro inicial M_intervals=100\n",
    "    y = np.full(M_intervals+1,np.nan)\n",
    "    \n",
    "    #Se crea la funcion de f(y_i+1) que se obtuvo en la parte de construccion. Cabe mencionar que x = y_i+1\n",
    "    #solo que por temas de familiarizarse con la funcion se usa x\n",
    "    f = lambda x, y, i, M: (50/(M)) * (x*(cos(100*(i+1)/M + x)) + y*(cos(100*i/M + y))) - x + y \n",
    "    \n",
    "    # Agregamos el primer valor de y_0 al arreglo de soluciones\n",
    "    y_i = 1.0\n",
    "    y[0]= 1.0\n",
    "    \n",
    "    # Entramos a un for que realizara M iteraciones para encontrar las soluciones de raiz de cada y_i\n",
    "    for i in range(M_intervals):\n",
    "        # Le entregamos los datos a nuestra funcion newton_method creada anteriormente, el initial guess \n",
    "        # sera x0 = 0.9 , x1 = 0.7 y x2 = 0.5. Se tomaron valores random entre 0 y 1 para los \"x\"\n",
    "        # iniciales, de todas maneras se probaron colocando otros numeros en orden distinto y funciono correctamente\n",
    "        y_temp = Metodo_de_parabola(f , 0.9,0.7,0.5, y_i, i, M_intervals,N_budget, tol)\n",
    "\n",
    "        #actualizamos N_budget y comprobamos si no es menor a cero para ver si detenemos el algoritmo\n",
    "        N_budget = y_temp[1]\n",
    "        if N_budget <= 0:\n",
    "            break\n",
    "            \n",
    "        # Remplazamos el valor de y_i por el encontrado y lo agregamos al vector\n",
    "        y_i =y_temp[0]\n",
    "        y[i+1]=y_i\n",
    "    \n",
    "    # Retornamos el vector de \"y\" soluciones\n",
    "    return y"
   ]
  },
  {
   "cell_type": "code",
   "execution_count": 53,
   "metadata": {},
   "outputs": [
    {
     "data": {
      "text/plain": [
       "array([1.        , 1.0370511 , 0.5663501 , 0.21938727, 0.08506076,\n",
       "              nan,        nan,        nan,        nan,        nan,\n",
       "              nan,        nan,        nan,        nan,        nan,\n",
       "              nan,        nan,        nan,        nan,        nan,\n",
       "              nan,        nan,        nan,        nan,        nan,\n",
       "              nan,        nan,        nan,        nan,        nan,\n",
       "              nan,        nan,        nan,        nan,        nan,\n",
       "              nan,        nan,        nan,        nan,        nan,\n",
       "              nan,        nan,        nan,        nan,        nan,\n",
       "              nan,        nan,        nan,        nan,        nan,\n",
       "              nan,        nan,        nan,        nan,        nan,\n",
       "              nan,        nan,        nan,        nan,        nan,\n",
       "              nan,        nan,        nan,        nan,        nan,\n",
       "              nan,        nan,        nan,        nan,        nan,\n",
       "              nan,        nan,        nan,        nan,        nan,\n",
       "              nan,        nan,        nan,        nan,        nan,\n",
       "              nan,        nan,        nan,        nan,        nan,\n",
       "              nan,        nan,        nan,        nan,        nan,\n",
       "              nan,        nan,        nan,        nan,        nan,\n",
       "              nan,        nan,        nan,        nan,        nan,\n",
       "              nan])"
      ]
     },
     "execution_count": 53,
     "metadata": {},
     "output_type": "execute_result"
    }
   ],
   "source": [
    "metodo_parabola()"
   ]
  },
  {
   "cell_type": "markdown",
   "metadata": {},
   "source": [
    "<a id='ref'></a>\n",
    "# Referencias\n",
    "\n",
    "- [1] [04_roots_of_1D_equations.ipynb](https://github.com/tclaudioe/Scientific-Computing/blob/master/SC1/04_roots_of_1D_equations.ipynb) (31-03-2019)\n",
    "\n",
    "- [2] [Resolver sistemas lineales con np.solve](https://riptutorial.com/es/numpy/example/12987/resolver-sistemas-lineales-con-np-solve-) (01-04-2019)\n",
    "\n",
    "- [3] [Parábola que pasa por 3 puntos](http://frodriguezdiaz.blogspot.com/2013/11/parabola-que-pasa-por-3-puntos.html) (01-04-2019)\n"
   ]
  }
 ],
 "metadata": {
  "kernelspec": {
   "display_name": "Python 3",
   "language": "python",
   "name": "python3"
  },
  "language_info": {
   "codemirror_mode": {
    "name": "ipython",
    "version": 3
   },
   "file_extension": ".py",
   "mimetype": "text/x-python",
   "name": "python",
   "nbconvert_exporter": "python",
   "pygments_lexer": "ipython3",
   "version": "3.7.1"
  }
 },
 "nbformat": 4,
 "nbformat_minor": 2
}
