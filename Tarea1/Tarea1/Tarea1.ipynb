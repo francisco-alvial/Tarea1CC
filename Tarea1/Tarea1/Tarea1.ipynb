{
 "cells": [
  {
   "cell_type": "markdown",
   "metadata": {},
   "source": [
    "<img src=\"escudo_utfsm.gif\" style=\"float:right;height:100px\">\n",
    "<img src=\"IsotipoDIisocolor.png\" style=\"float:left;height:100px\">\n",
    "<center>\n",
    "    <h1> ILI285 - Computación Científica I / INF285 - Computación Científica</h1>\n",
    "    <h1> Tarea 1: Remember your roots </h1>\n",
    "    <h3> [S]cientific [C]omputing [T]eam 2019</h3>\n",
    "</center>\n",
    "<p>\n",
    "<center>Marzo 2019 - v1.25 </center>\n",
    "</p>\n",
    "\n",
    "---"
   ]
  },
  {
   "cell_type": "markdown",
   "metadata": {},
   "source": [
    "## Contexto\n",
    "\n",
    "La presente tarea tiene como objetivo el uso de algoritmos de búsquedas de ceros en 1D, como adaptarlos a un problema particular y que implicancias tiene el uso de cada uno, tanto desde el punto de vista de la aproximación de la solución como de la computación necesaria. Al final se presenta la interpretación gráfica de las soluciones obtenidas."
   ]
  },
  {
   "cell_type": "markdown",
   "metadata": {},
   "source": [
    "_Nota: En esta tarea no se puede utilizar ```sympy``` en los algoritmos numéricos, pero sí se puede utilizar para desarrollos intermedios, por ejemplo en la sección \"1.- Construcción\"._"
   ]
  },
  {
   "cell_type": "code",
   "execution_count": 3,
   "metadata": {},
   "outputs": [],
   "source": [
    "import numpy as np\n",
    "from sympy import *\n",
    "import matplotlib.pyplot as plt\n",
    "%matplotlib inline\n",
    "from ipywidgets import interact\n",
    "import ipywidgets as widgets"
   ]
  },
  {
   "cell_type": "markdown",
   "metadata": {},
   "source": [
    "-------"
   ]
  },
  {
   "cell_type": "markdown",
   "metadata": {},
   "source": [
    "## Problema\n",
    "\n",
    "El universo de Marvel fue atacado duramente por Thanos en _Avenger Infinity War_. \n",
    "Sin embargo, los Avengers en conjunto con la Capitana Marvel tienen un plan para salvar al universo.\n",
    "Lamentablemente, se han encontrado con la siguiente ecuación diferencial ordinaria que no pueden resolver:\n",
    "\n",
    "\\begin{align*}\n",
    "\\frac{dy}{dx}(x)&=y(x)\\cos{(x+y(x))},\\\\\n",
    "y(0)&=1,\n",
    "\\end{align*}\n",
    "\n",
    "donde $x \\in [0,100]$ y además sabemos que $-1000\\leq y(x) \\leq 1000$ para $x \\in [0,100]$.\n",
    "Afortunadamente, usted se ha dado cuenta que puede usar algoritmos numéricos para encontrar una aproximación numérica de $y(x)$ sobre una grilla de puntos $x_i=100\\frac{i}{M}$, con $i\\in\\{0,1,\\dots,M\\}$.\n",
    "Una estrategia para resolver este tipo de problemas es discretizar el dominio de la función, y en lugar de encontrar la función $y(x)$ algebraicamente, se encuentra una aproximación a $y(x_i)$ para cada $x_i$.\n",
    "\n",
    "Note que ya conocemos el valor exacto de $y(x_0)=y(0)=1$ por la condición inicial, por lo que necesitamos obtener el siguiente valor $y(x_1)$ y así sucesivamente hasta $y(x_M)$.\n",
    "Para hacer esto, primero hagamos un poco de desarrollo algebraico. \n",
    "Al integrar la ecuación diferencial entre $x_0$ y $x_1$ obtenemos:\n",
    "\n",
    "\\begin{equation*}\n",
    "\\int_{x_0}^{x_1} \\dfrac{dy}{dx}(x) \\, \\mathrm{d}x  =  \\int_{x_0}^{x_1} y(x)\\,\\cos{(x+y(x))} \\, \\mathrm{d}x.\n",
    "\\end{equation*}\n",
    "\n",
    "Por el **teorema fundamental del cálculo**, esto es:\n",
    "\n",
    "\\begin{equation*}\n",
    " y(x_1)- y(x_0)   =  \\int_{x_0}^{x_1} \\! y(x)\\cos{(x+y(x))} \\, \\mathrm{d}x.\n",
    "\\end{equation*}\n",
    "\n",
    "Hasta este punto no se ha realizado ninguna aproximación.\n",
    "Nótese que $y(x_1)$ es lo que buscamos y $y(x_0)$ es conocido, asi que vamos bien encaminados. \n",
    "Sin embargo necesitamos $y(x)$ para realizar la integral del lado derecho de la ecuación.\n",
    "Entonces, ahora es un buen momento para realizar una aproximación numérica.\n",
    "En este caso, utilizaremos el método de integración de trapecio.\n",
    "Este consiste en que una integral definida $\\int_a^b\\,f(x)\\,\\mathrm{d}x$ es obtenida por medio de la siguiente expresión $\\dfrac{f(a)+f(b)}{2}(b-a)+\\text{Error}$, i.e. $\\int_a^b\\,f(x)\\,\\mathrm{d}x\\approx\\dfrac{f(a)+f(b)}{2}(b-a)$.\n",
    "En la siguiente figura se muestra un sketch de la aproximación:"
   ]
  },
  {
   "cell_type": "markdown",
   "metadata": {},
   "source": [
    "<img src=\"Trapezoidal-Rule.png\" style=\"width:50%\">"
   ]
  },
  {
   "cell_type": "markdown",
   "metadata": {},
   "source": [
    "donde la función a integrar es la curva en rojo, el valor de la integral, en este caso, corresponde al área bajo la curva en gris, la aproximación de la integral $\\int_a^b\\,f(x)\\,\\mathrm{d}x$ por medio de un trapecio es la área achurada en celeste y el Error es la diferencia entre en valor de la integral y la aproximación por trapecio. \n",
    "Por ahora solo es necesario entender que el Error _debería_ disminuir a medida que el largo del intervalo $[a,b]$ sea más pequeño. Entonces, en nuestro caso esto se reduce a:\n",
    "\n",
    "\\begin{equation*}\n",
    " y(x_1)- y(x_0)   \\approx  \\dfrac{x_1-x_0}{2}\\left(y(x_1)\\cos{(x_1+y(x_1))}+y(x_0)\\cos{(x_0+y(x_0))}\\right).\n",
    "\\end{equation*}\n",
    "\n",
    "Lo que se transforma en el siguiente método numérico:\n",
    "\n",
    "\\begin{equation*}\n",
    " y_1- y_0   =  \\dfrac{x_1-x_0}{2}\\left(y_1\\cos{(x_1+y_1)}+y_0\\cos{(x_0+y_0)}\\right),\n",
    "\\end{equation*}\n",
    "\n",
    "donde lo conocido es $x_0$, $x_1$ y $y_0$ y lo que se busca es $y_1$. En el caso general, obtenemos\n",
    "la siguiente secuencia de ecuaciones que se deben resolver:\n",
    "\n",
    "\\begin{equation*}\n",
    " y_{i+1}- y_i   =  \\dfrac{x_{i+1}-x_i}{2}\\left(y_{i+1}\\cos{(x_{i+1}+y_{i+1})}+y_i\\cos{(x_i+y_i)}\\right),\n",
    "\\end{equation*}\n",
    "\n",
    "para $i\\in\\{0,1,\\dots,M\\}$, $x_i=100\\frac{i}{M}$ y $y_0=1$. _Con esta solución, los Avengers y la capitana Marvel tendrán todas la herramientas para derrotar a Thanos!_\n",
    "\n",
    "**Note: From now on $M$ will be denoted as $M\\_$intervals in the code.**"
   ]
  },
  {
   "cell_type": "markdown",
   "metadata": {},
   "source": [
    "----"
   ]
  },
  {
   "cell_type": "markdown",
   "metadata": {},
   "source": [
    "## Preguntas\n",
    "---"
   ]
  },
  {
   "cell_type": "markdown",
   "metadata": {},
   "source": [
    "## 1.- Construcción\n",
    "Explique cómo usar los tres métodos de búsqueda de raíces vistos en clases (bisección, iteración de punto fijo y método de Newton) para resolver la secuencia de problemas mencionados anteriormente.\n",
    "Debe explicitar completamente todo lo que necesita para luego poder implementar cada método.\n",
    "Sea claro y explícito en su estrategia. Se indicará en cada método lo mínimo que debe explicar.\n",
    "Ver [04_roots_of_1D_equations.ipynb](https://github.com/tclaudioe/Scientific-Computing/blob/master/SC1/04_roots_of_1D_equations.ipynb) para referencia.\n",
    "\n",
    "- Método de la Bisección. Debe escribir explícitamente cual es la función 'f' a utilizar y los intervalos $[a,b]$ a utilizar. <span style=\"color:blue; font-size: 2em\"> **10 puntos**</span> \n",
    "\n"
   ]
  },
  {
   "cell_type": "markdown",
   "metadata": {},
   "source": [
    "\n",
    "\n",
    "\\begin{equation*}\n",
    "    \\dfrac{100}{2M}\\left(y_i\\cos{(100/M+y_1)}+\\cos{(1)}\\right)-y_1 + 1 = 0\n",
    "\\end{equation*}\n",
    "\n",
    "\\begin{equation*}\n",
    "    \\dfrac{50}{M}\\left(y_{i+1}\\cos{(100*(i+1)/M+y_{i+1})}+y_i\\cos{(100*i/M + y_i)}\\right)-y_{i+1} + y_i = 0\n",
    "\\end{equation*}"
   ]
  },
  {
   "cell_type": "code",
   "execution_count": 8,
   "metadata": {},
   "outputs": [],
   "source": [
    "f = lambda x: (100/(2*10)) * (x*math.cos(100/10 + x) + math.cos(1)) - x + 1 "
   ]
  },
  {
   "cell_type": "code",
   "execution_count": 9,
   "metadata": {},
   "outputs": [
    {
     "data": {
      "text/plain": [
       "4.1761738316381525e-06"
      ]
     },
     "execution_count": 9,
     "metadata": {},
     "output_type": "execute_result"
    }
   ],
   "source": [
    "f( -80.4750788)"
   ]
  },
  {
   "cell_type": "code",
   "execution_count": 132,
   "metadata": {},
   "outputs": [],
   "source": [
    "def bisect(f, a, b, tol=0):\n",
    "    fa = f(a)\n",
    "    fb = f(b)\n",
    "    i = 0\n",
    "    # Just checking if the sign is not negative => not root  necessarily \n",
    "    if np.sign(f(a)*f(b)) >= 0:\n",
    "        print('f(a)f(b)<0 not satisfied!')\n",
    "        return None\n",
    "  \n",
    "    #Printing the evolution of the computation of the root\n",
    "    print(' i |     a     |     c     |     b     |     fa    |     fc     |     fb     |   b-a')\n",
    "    print('----------------------------------------------------------------------------------------')\n",
    "    \n",
    "    while(b-a)/2 > tol:\n",
    "        c = (a+b)/2.\n",
    "        fc = f(c)\n",
    "        print('%2d | %.7f | %.7f | %.7f | %.7f | %.7f | %.7f | %.7f' %\n",
    "              (i+1, a, c, b, fa, fc, fb, b-a))\n",
    "        # Did we find the root?\n",
    "        if fc == 0:\n",
    "            print('f(c)==0')\n",
    "            break\n",
    "        elif np.sign(fa*fc) < 0:\n",
    "            b = c\n",
    "            fb = fc\n",
    "        else:\n",
    "            a = c\n",
    "            fa = fc\n",
    "        i += 1\n",
    "        \n",
    "    xc = (a+b)/2.\n",
    "    return xc"
   ]
  },
  {
   "cell_type": "code",
   "execution_count": 2,
   "metadata": {},
   "outputs": [
    {
     "ename": "NameError",
     "evalue": "name 'bisect' is not defined",
     "output_type": "error",
     "traceback": [
      "\u001b[1;31m---------------------------------------------------------------------------\u001b[0m",
      "\u001b[1;31mNameError\u001b[0m                                 Traceback (most recent call last)",
      "\u001b[1;32m<ipython-input-2-a38d788dbfb9>\u001b[0m in \u001b[0;36m<module>\u001b[1;34m\u001b[0m\n\u001b[1;32m----> 1\u001b[1;33m \u001b[0mbisect\u001b[0m\u001b[1;33m(\u001b[0m\u001b[0mf\u001b[0m \u001b[1;33m,\u001b[0m \u001b[1;33m-\u001b[0m\u001b[1;36m100\u001b[0m \u001b[1;33m,\u001b[0m \u001b[1;36m5\u001b[0m \u001b[1;33m)\u001b[0m\u001b[1;33m\u001b[0m\u001b[1;33m\u001b[0m\u001b[0m\n\u001b[0m",
      "\u001b[1;31mNameError\u001b[0m: name 'bisect' is not defined"
     ]
    }
   ],
   "source": [
    "bisect(f , -100 , 5 )"
   ]
  },
  {
   "cell_type": "markdown",
   "metadata": {},
   "source": [
    "\n",
    "- Iteración de Punto Fijo (Restricción: Aquí no se puede usar el método de Newton). Explique cual será su _initial guess_ y la función 'g' a utilizar. Se espera que sea convergente. <span style=\"color:blue; font-size: 2em\"> **10 puntos**</span> \n"
   ]
  },
  {
   "cell_type": "code",
   "execution_count": 142,
   "metadata": {},
   "outputs": [],
   "source": [
    "g_punto_fijo = lambda x, y, i, M: (50/(M)) * (x*(cos(100*(i+1)/M + x)) + y*(cos(100*i/M + y)))  + y "
   ]
  },
  {
   "cell_type": "code",
   "execution_count": 143,
   "metadata": {},
   "outputs": [],
   "source": [
    "def cobweb(x,g=None):\n",
    "    min_x = np.amin(x)\n",
    "    max_x = np.amax(x)\n",
    "    \n",
    "    plt.figure(figsize=(10,10))\n",
    "    ax = plt.axes()\n",
    "    plt.plot(np.array([min_x,max_x]),np.array([min_x,max_x]),'b-')\n",
    "    for i in np.arange(x.size-1):\n",
    "        delta_x = x[i+1]-x[i]\n",
    "        head_length =  np.abs(delta_x)*0.04\n",
    "        arrow_length = delta_x-np.sign(delta_x)*head_length\n",
    "        ax.arrow(x[i], x[i], 0, arrow_length, head_width=1.5*head_length, head_length=head_length, fc='k', ec='k')\n",
    "        ax.arrow(x[i], x[i+1], arrow_length, 0, head_width=1.5*head_length, head_length=head_length, fc='k', ec='k')\n",
    "    \n",
    "    if g!=None:\n",
    "        y = np.linspace(min_x,max_x,1000)\n",
    "        plt.plot(y,g(y),'r')\n",
    "    \n",
    "    plt.title('Cobweb diagram')\n",
    "    plt.grid(True)\n",
    "    plt.show()"
   ]
  },
  {
   "cell_type": "code",
   "execution_count": 144,
   "metadata": {},
   "outputs": [],
   "source": [
    "def fpi(g, x0, k, flag_cobweb=False):\n",
    "    x = np.empty(k+1)\n",
    "    x[0] = x0\n",
    "    error_i = np.inf\n",
    "    \n",
    "    print(' i |     x(i)     |    x(i+1)    ||x(i+1)-x(i)| | e_i/e_{i-1}')\n",
    "    print('--------------------------------------------------------------')\n",
    "    \n",
    "    for i in range(k):\n",
    "        x[i+1] = g(x[i], 1 , 0 , 100)\n",
    "        error_iminus1 = error_i\n",
    "        error_i = abs(x[i+1]-x[i])\n",
    "        print('%2d | %.10f | %.10f | %.10f | %.10f' %\n",
    "              (i,x[i],x[i+1],error_i,error_i/error_iminus1))\n",
    "    return x[-1]"
   ]
  },
  {
   "cell_type": "code",
   "execution_count": 145,
   "metadata": {},
   "outputs": [
    {
     "name": "stdout",
     "output_type": "stream",
     "text": [
      " i |     x(i)     |    x(i+1)    ||x(i+1)-x(i)| | e_i/e_{i-1}\n",
      "--------------------------------------------------------------\n",
      " 0 | 0.5000000000 | 1.2878354534 | 0.7878354534 | 0.0000000000\n",
      " 1 | 1.2878354534 | 0.8469968949 | 0.4408385585 | 0.5595566391\n",
      " 2 | 0.8469968949 | 1.1546621955 | 0.3076653006 | 0.6979092338\n",
      " 3 | 1.1546621955 | 0.9518953713 | 0.2027668241 | 0.6590500253\n",
      " 4 | 0.9518953713 | 1.0931267476 | 0.1412313763 | 0.6965211241\n",
      " 5 | 1.0931267476 | 0.9974700459 | 0.0956567017 | 0.6773048895\n",
      " 6 | 0.9974700459 | 1.0637521442 | 0.0662820983 | 0.6929164092\n",
      " 7 | 1.0637521442 | 1.0184504589 | 0.0453016852 | 0.6834678806\n",
      " 8 | 1.0184504589 | 1.0497319892 | 0.0312815302 | 0.6905158177\n",
      " 9 | 1.0497319892 | 1.0282746100 | 0.0214573792 | 0.6859440398\n",
      "10 | 1.0282746100 | 1.0430633340 | 0.0147887241 | 0.6892139029\n",
      "11 | 1.0430633340 | 1.0329031059 | 0.0101602281 | 0.6870253367\n",
      "12 | 1.0329031059 | 1.0398990239 | 0.0069959180 | 0.6885591450\n",
      "13 | 1.0398990239 | 1.0350892078 | 0.0048098161 | 0.6875175078\n",
      "14 | 1.0350892078 | 1.0383995178 | 0.0033103100 | 0.6882404434\n",
      "15 | 1.0383995178 | 1.0361228649 | 0.0022766529 | 0.6877461239\n",
      "16 | 1.0361228649 | 1.0376894015 | 0.0015665366 | 0.6880876143\n",
      "17 | 1.0376894015 | 1.0366118540 | 0.0010775475 | 0.6878533624\n",
      "18 | 1.0366118540 | 1.0373532227 | 0.0007413687 | 0.6880148351\n",
      "19 | 1.0373532227 | 1.0368432323 | 0.0005099904 | 0.6879039014\n",
      "20 | 1.0368432323 | 1.0371940956 | 0.0003508633 | 0.6879802897\n",
      "21 | 1.0371940956 | 1.0369527270 | 0.0002413686 | 0.6879277723\n",
      "22 | 1.0369527270 | 1.0371187799 | 0.0001660529 | 0.6879639176\n",
      "23 | 1.0371187799 | 1.0370045456 | 0.0001142343 | 0.6879390591\n",
      "24 | 1.0370045456 | 1.0370831338 | 0.0000785882 | 0.6879561641\n",
      "25 | 1.0370831338 | 1.0370290695 | 0.0000540643 | 0.6879443984\n",
      "26 | 1.0370290695 | 1.0370662632 | 0.0000371937 | 0.6879524934\n",
      "27 | 1.0370662632 | 1.0370406759 | 0.0000255873 | 0.6879469248\n",
      "28 | 1.0370406759 | 1.0370582787 | 0.0000176028 | 0.6879507559\n",
      "29 | 1.0370582787 | 1.0370461689 | 0.0000121098 | 0.6879481204\n",
      "30 | 1.0370461689 | 1.0370544998 | 0.0000083309 | 0.6879499335\n",
      "31 | 1.0370544998 | 1.0370487686 | 0.0000057313 | 0.6879486862\n",
      "32 | 1.0370487686 | 1.0370527114 | 0.0000039428 | 0.6879495443\n",
      "33 | 1.0370527114 | 1.0370499989 | 0.0000027125 | 0.6879489540\n",
      "34 | 1.0370499989 | 1.0370518650 | 0.0000018660 | 0.6879493602\n",
      "35 | 1.0370518650 | 1.0370505812 | 0.0000012837 | 0.6879490808\n",
      "36 | 1.0370505812 | 1.0370514644 | 0.0000008831 | 0.6879492730\n",
      "37 | 1.0370514644 | 1.0370508568 | 0.0000006076 | 0.6879491406\n",
      "38 | 1.0370508568 | 1.0370512748 | 0.0000004180 | 0.6879492316\n",
      "39 | 1.0370512748 | 1.0370509872 | 0.0000002875 | 0.6879491692\n",
      "40 | 1.0370509872 | 1.0370511851 | 0.0000001978 | 0.6879492122\n",
      "41 | 1.0370511851 | 1.0370510490 | 0.0000001361 | 0.6879491822\n",
      "42 | 1.0370510490 | 1.0370511426 | 0.0000000936 | 0.6879492029\n",
      "43 | 1.0370511426 | 1.0370510782 | 0.0000000644 | 0.6879491902\n",
      "44 | 1.0370510782 | 1.0370511225 | 0.0000000443 | 0.6879491993\n",
      "45 | 1.0370511225 | 1.0370510920 | 0.0000000305 | 0.6879491967\n",
      "46 | 1.0370510920 | 1.0370511130 | 0.0000000210 | 0.6879492005\n",
      "47 | 1.0370511130 | 1.0370510986 | 0.0000000144 | 0.6879491907\n",
      "48 | 1.0370510986 | 1.0370511085 | 0.0000000099 | 0.6879492057\n",
      "49 | 1.0370511085 | 1.0370511017 | 0.0000000068 | 0.6879492215\n",
      "50 | 1.0370511017 | 1.0370511064 | 0.0000000047 | 0.6879492105\n",
      "51 | 1.0370511064 | 1.0370511031 | 0.0000000032 | 0.6879492209\n",
      "52 | 1.0370511031 | 1.0370511053 | 0.0000000022 | 0.6879492403\n",
      "53 | 1.0370511053 | 1.0370511038 | 0.0000000015 | 0.6879491330\n",
      "54 | 1.0370511038 | 1.0370511049 | 0.0000000011 | 0.6879490321\n",
      "55 | 1.0370511049 | 1.0370511041 | 0.0000000007 | 0.6879490836\n",
      "56 | 1.0370511041 | 1.0370511046 | 0.0000000005 | 0.6879493285\n",
      "57 | 1.0370511046 | 1.0370511043 | 0.0000000003 | 0.6879492336\n",
      "58 | 1.0370511043 | 1.0370511045 | 0.0000000002 | 0.6879491378\n",
      "59 | 1.0370511045 | 1.0370511044 | 0.0000000002 | 0.6879496911\n",
      "60 | 1.0370511044 | 1.0370511045 | 0.0000000001 | 0.6879497610\n",
      "61 | 1.0370511045 | 1.0370511044 | 0.0000000001 | 0.6879503224\n",
      "62 | 1.0370511044 | 1.0370511045 | 0.0000000001 | 0.6879520060\n",
      "63 | 1.0370511045 | 1.0370511044 | 0.0000000000 | 0.6879482746\n",
      "64 | 1.0370511044 | 1.0370511045 | 0.0000000000 | 0.6879421782\n",
      "65 | 1.0370511045 | 1.0370511044 | 0.0000000000 | 0.6879399844\n",
      "66 | 1.0370511044 | 1.0370511044 | 0.0000000000 | 0.6879425293\n",
      "67 | 1.0370511044 | 1.0370511044 | 0.0000000000 | 0.6879460596\n",
      "68 | 1.0370511044 | 1.0370511044 | 0.0000000000 | 0.6879248683\n",
      "69 | 1.0370511044 | 1.0370511044 | 0.0000000000 | 0.6879117390\n",
      "70 | 1.0370511044 | 1.0370511044 | 0.0000000000 | 0.6878966194\n",
      "71 | 1.0370511044 | 1.0370511044 | 0.0000000000 | 0.6879402885\n",
      "72 | 1.0370511044 | 1.0370511044 | 0.0000000000 | 0.6880409606\n",
      "73 | 1.0370511044 | 1.0370511044 | 0.0000000000 | 0.6879872431\n",
      "74 | 1.0370511044 | 1.0370511044 | 0.0000000000 | 0.6881277363\n",
      "75 | 1.0370511044 | 1.0370511044 | 0.0000000000 | 0.6878742515\n",
      "76 | 1.0370511044 | 1.0370511044 | 0.0000000000 | 0.6871599565\n",
      "77 | 1.0370511044 | 1.0370511044 | 0.0000000000 | 0.6872525732\n",
      "78 | 1.0370511044 | 1.0370511044 | 0.0000000000 | 0.6877880184\n",
      "79 | 1.0370511044 | 1.0370511044 | 0.0000000000 | 0.6884422111\n",
      "80 | 1.0370511044 | 1.0370511044 | 0.0000000000 | 0.6885644769\n",
      "81 | 1.0370511044 | 1.0370511044 | 0.0000000000 | 0.6890459364\n",
      "82 | 1.0370511044 | 1.0370511044 | 0.0000000000 | 0.6871794872\n",
      "83 | 1.0370511044 | 1.0370511044 | 0.0000000000 | 0.6865671642\n",
      "84 | 1.0370511044 | 1.0370511044 | 0.0000000000 | 0.6847826087\n",
      "85 | 1.0370511044 | 1.0370511044 | 0.0000000000 | 0.6666666667\n",
      "86 | 1.0370511044 | 1.0370511044 | 0.0000000000 | 0.6666666667\n",
      "87 | 1.0370511044 | 1.0370511044 | 0.0000000000 | 0.7142857143\n",
      "88 | 1.0370511044 | 1.0370511044 | 0.0000000000 | 0.7000000000\n",
      "89 | 1.0370511044 | 1.0370511044 | 0.0000000000 | 0.6428571429\n",
      "90 | 1.0370511044 | 1.0370511044 | 0.0000000000 | 0.6666666667\n",
      "91 | 1.0370511044 | 1.0370511044 | 0.0000000000 | 0.6666666667\n",
      "92 | 1.0370511044 | 1.0370511044 | 0.0000000000 | 0.7500000000\n",
      "93 | 1.0370511044 | 1.0370511044 | 0.0000000000 | 0.6666666667\n",
      "94 | 1.0370511044 | 1.0370511044 | 0.0000000000 | 0.5000000000\n",
      "95 | 1.0370511044 | 1.0370511044 | 0.0000000000 | 1.0000000000\n",
      "96 | 1.0370511044 | 1.0370511044 | 0.0000000000 | 1.0000000000\n",
      "97 | 1.0370511044 | 1.0370511044 | 0.0000000000 | 1.0000000000\n",
      "98 | 1.0370511044 | 1.0370511044 | 0.0000000000 | 1.0000000000\n",
      "99 | 1.0370511044 | 1.0370511044 | 0.0000000000 | 1.0000000000\n"
     ]
    },
    {
     "data": {
      "text/plain": [
       "1.0370511044414543"
      ]
     },
     "execution_count": 145,
     "metadata": {},
     "output_type": "execute_result"
    }
   ],
   "source": [
    "fpi(g_punto_fijo, 0.5, 100)"
   ]
  },
  {
   "cell_type": "markdown",
   "metadata": {},
   "source": [
    "\n",
    "- Método de Newton. Debe explicar cual es el 'f', su derivada y el _initial guess_ a usar. <span style=\"color:blue; font-size: 2em\"> **10 puntos**</span> "
   ]
  },
  {
   "cell_type": "code",
   "execution_count": 29,
   "metadata": {},
   "outputs": [
    {
     "ename": "SyntaxError",
     "evalue": "invalid syntax (<ipython-input-29-862252d45820>, line 1)",
     "output_type": "error",
     "traceback": [
      "\u001b[1;36m  File \u001b[1;32m\"<ipython-input-29-862252d45820>\"\u001b[1;36m, line \u001b[1;32m1\u001b[0m\n\u001b[1;33m    f = lambda x: (100*/(2M)) * (x*math.cos(100*(i+1)/M + x) + y*math.cos(100*i/M + y)) - x + y\u001b[0m\n\u001b[1;37m                       ^\u001b[0m\n\u001b[1;31mSyntaxError\u001b[0m\u001b[1;31m:\u001b[0m invalid syntax\n"
     ]
    }
   ],
   "source": [
    "f = lambda x: (100/(2M)) * (x*math.cos(100*(i+1)/M + x) + y*math.cos(100*i/M + y)) - x + y "
   ]
  },
  {
   "cell_type": "code",
   "execution_count": 62,
   "metadata": {},
   "outputs": [
    {
     "data": {
      "text/plain": [
       "-1 + 50*(-x*sin(x + (100*i + 100)/M) + cos(x + (100*i + 100)/M))/M"
      ]
     },
     "execution_count": 62,
     "metadata": {},
     "output_type": "execute_result"
    }
   ],
   "source": [
    "x = Symbol('x')\n",
    "y = Symbol('y')\n",
    "M = Symbol('M')\n",
    "i = Symbol('i')\n",
    "\n",
    "f = (50/(M)) * (x*(cos(100*(i+1)/M + x)) + y*(cos(100*i/M + y))) - x + y \n",
    "fprime = f.diff(x)\n",
    "fprime"
   ]
  },
  {
   "cell_type": "code",
   "execution_count": 221,
   "metadata": {},
   "outputs": [],
   "source": [
    "f = lambda x, y, i, M: (50/(M)) * (x*(cos(100*(i+1)/M + x)) + y*(cos(100*i/M + y))) - x + y "
   ]
  },
  {
   "cell_type": "code",
   "execution_count": 222,
   "metadata": {},
   "outputs": [],
   "source": [
    "fprime = lambda x, y, i, M: -1 + 50*(-x*sin(x + (100*i + 100)/M) + cos(x + (100*i + 100)/M))/M"
   ]
  },
  {
   "cell_type": "code",
   "execution_count": 90,
   "metadata": {},
   "outputs": [
    {
     "data": {
      "text/plain": [
       "-1.71984134366638"
      ]
     },
     "execution_count": 90,
     "metadata": {},
     "output_type": "execute_result"
    }
   ],
   "source": [
    "f(2,1,0,100)"
   ]
  },
  {
   "cell_type": "code",
   "execution_count": 63,
   "metadata": {},
   "outputs": [
    {
     "data": {
      "text/plain": [
       "x - (-x + y + 50*(x*cos(x + (100*i + 100)/M) + y*cos(y + 100*i/M))/M)/(-1 + 50*(-x*sin(x + (100*i + 100)/M) + cos(x + (100*i + 100)/M))/M)"
      ]
     },
     "execution_count": 63,
     "metadata": {},
     "output_type": "execute_result"
    }
   ],
   "source": [
    "g = x - f/fprime\n",
    "g\n"
   ]
  },
  {
   "cell_type": "code",
   "execution_count": 64,
   "metadata": {},
   "outputs": [
    {
     "data": {
      "text/plain": [
       "(M*y + 50*x**2*sin(x + 100*i/M + 100/M) + 50*y*cos(y + 100*i/M))/(M + 50*x*sin(x + 100*i/M + 100/M) - 50*cos(x + 100*i/M + 100/M))"
      ]
     },
     "execution_count": 64,
     "metadata": {},
     "output_type": "execute_result"
    }
   ],
   "source": [
    "simplify(g)"
   ]
  },
  {
   "cell_type": "code",
   "execution_count": 78,
   "metadata": {},
   "outputs": [
    {
     "data": {
      "text/plain": [
       "0.948826932694532"
      ]
     },
     "execution_count": 78,
     "metadata": {},
     "output_type": "execute_result"
    }
   ],
   "source": [
    "g.evalf(subs={ x:2.0 , y:1.0, M: 100.0, i: 0.0})\n"
   ]
  },
  {
   "cell_type": "code",
   "execution_count": 225,
   "metadata": {},
   "outputs": [],
   "source": [
    "def newton_method(f, fp, x0, rel_error=1e-8, m=1):\n",
    "    #Initialization of hybrid error and absolute\n",
    "    hybrid_error = 100\n",
    "    error_i = np.inf\n",
    "    \n",
    "    print('i |     x(i)     |     x(i+1)   |      |x(i+1)-x(i)|     |  e_i/e_{i-1} | e_i/e_{i-1}^2')\n",
    "    print('----------------------------------------------------------------------------------------')\n",
    "    \n",
    "    #Iteration counter\n",
    "    i = 1\n",
    "    while (hybrid_error > rel_error and hybrid_error < 1e12 and i < 1e4):\n",
    "        #Newton's iteration\n",
    "        x1 = x0-m*f(x0,1,0,10)/fp(x0,1,0,10)\n",
    "        \n",
    "        #Checking if root was found\n",
    "        if f(x1,1,0,10) == 0.0:\n",
    "            hybrid_error = 0.0\n",
    "            break\n",
    "        \n",
    "        #Computation of hybrid error\n",
    "        hybrid_error = abs(x1-x0)/np.max([abs(x1),1e-12])\n",
    "        \n",
    "        #Computation of absolute error\n",
    "        error_iminus1 = error_i\n",
    "        error_i = abs(x1-x0)\n",
    "        \n",
    "        #Increasing counter\n",
    "        i += 1\n",
    "        \n",
    "        #Showing some info\n",
    "        print(\"%d | %.10f | %.10f | %.20f | %.10f | %.10f\" % \n",
    "              (i, x0, x1, error_i, error_i/error_iminus1, error_i/(error_iminus1**2)))\n",
    "        #Updating solution\n",
    "        x0 = x1\n",
    "    \n",
    "    #Checking if solution was obtained\n",
    "    if hybrid_error < rel_error: \n",
    "        return x1\n",
    "    elif i>=1e4:\n",
    "        print('Newton''s Method diverged. Too many iterations!!')\n",
    "        return None\n",
    "    else:\n",
    "        print('Newton''s Method diverged!')\n",
    "        return None"
   ]
  },
  {
   "cell_type": "code",
   "execution_count": 226,
   "metadata": {},
   "outputs": [
    {
     "name": "stdout",
     "output_type": "stream",
     "text": [
      "i |     x(i)     |     x(i+1)   |      |x(i+1)-x(i)|     |  e_i/e_{i-1} | e_i/e_{i-1}^2\n",
      "----------------------------------------------------------------------------------------\n",
      "2 | 1.0000000000 | 0.3228279043 | 0.67717209565682745520 | 0.0000000000 | 0.0000000000\n",
      "3 | 0.3228279043 | 1.1544625611 | 0.83163465672077374613 | 1.2280994182 | 1.8135706213\n",
      "4 | 1.1544625611 | 0.5242435384 | 0.63021902266675022819 | 0.7578075512 | 0.9112265164\n",
      "5 | 0.5242435384 | 2.6495420078 | 2.12529846940328370763 | 3.3723172309 | 5.3510241831\n",
      "6 | 2.6495420078 | -2.2960221370 | 4.94556414483967898832 | 2.3269974623 | 1.0949038433\n",
      "7 | -2.2960221370 | -2.6818365714 | 0.38581443437906148830 | 0.0780122192 | 0.0157741800\n",
      "8 | -2.6818365714 | -2.6464736588 | 0.03536291264282942493 | 0.0916578269 | 0.2375697194\n",
      "9 | -2.6464736588 | -2.6463786045 | 0.00009505427804024080 | 0.0026879652 | 0.0760108539\n",
      "10 | -2.6463786045 | -2.6463786037 | 0.00000000084217210983 | 0.0000088599 | 0.0932089294\n"
     ]
    },
    {
     "data": {
      "text/plain": [
       "-2.64637860365522"
      ]
     },
     "execution_count": 226,
     "metadata": {},
     "output_type": "execute_result"
    }
   ],
   "source": [
    "newton_method(f , fprime , 1.0)"
   ]
  },
  {
   "cell_type": "markdown",
   "metadata": {},
   "source": [
    "\n",
    "\n",
    "## 2.- Implementación\n",
    "Aquí usted debe implementar cada uno de los algoritmos propuestos en la pregunta anterior de la forma que los explicó. \n",
    "Usted tendrá que considerar un presupuesto $N\\_budget$ de *operaciones elementales*, es decir, cada vez que en su implementación realice una operación elemental la debe descontar de su presupuesto y el algoritmo debe retornar el vector $\\mathbf{y}$ de soluciones encontradas hasta donde pudo obtener una solución.\n",
    "Si el presupuesto es menor a lo que necesita para poder obtener las $M\\_$intervals raices, el vector debe retornar NaN en las componentes que no pudo obtener. Condicionales no se consideran operaciones elementales pero si hubieran operaciones elementales dentro de un condicional debén incluirse y descontarse del presupuesto cada vez que se realicen.\n",
    "El costo de cada operación viene dado por la siguiente tabla: <br> \n",
    "\n",
    "|Operaciones elementales|Costo|\n",
    "|:----------:|:-------------:|\n",
    "| +,-,*,/ |  1 |\n",
    "| Funciones Elementales (trig, etc) |    50   |\n",
    "\n",
    "- Método de la Bisección. <span style=\"color:blue; font-size: 2em\"> **15 puntos**</span> \n",
    "\n",
    "```python\n",
    "'''\n",
    "Input: \n",
    "M_intervals - (integer) Number of intervals that the domain [0,100] will be divided.\n",
    "N_budget - (integer) Budget for the number of allowed of elemental operations.\n",
    "tol - (double) Tolerance for the root, it must be greater or equal to 0.\n",
    "Output:\n",
    "y - (double-array) The values of y(x_i) for all the values of x_i. The dimension of this vector is M+1, it must include the initial value. The vector should return NaN if it could not compute any of the values required.\n",
    "'''\n",
    "def bisect_ode_solver(M_intervals=10,N_budget=1e4,tol=1e-8):\n",
    "    y = np.full(M_intervals+1,np.nan)\n",
    "    ...\n",
    "    return y\n",
    "``"
   ]
  },
  {
   "cell_type": "code",
   "execution_count": 87,
   "metadata": {},
   "outputs": [],
   "source": [
    "def bisect(f, a, b, y_i , valor_i , M, N_budget, tol=1e-8):\n",
    "    fa = f(a, y_i , valor_i , M)\n",
    "    N_budget = N_budget - 114\n",
    "    fb = f(b, y_i , valor_i , M)\n",
    "    N_budget = N_budget - 114\n",
    "    i = 0\n",
    "    # Just checking if the sign is not negative => not root  necessarily \n",
    "    if np.sign(fa*fb) >= 0:\n",
    "        print('f(a)f(b)<0 not satisfied!')\n",
    "        return False\n",
    "  \n",
    "\n",
    "    \n",
    "    while(b-a)/2 > tol:\n",
    "        \n",
    "        #Cada vez que comienza el while, resta la comprobacion de (b-a)/2 \n",
    "        N_budget = N_budget - 2\n",
    "        \n",
    "        #creo a \"c\" y se lo resto a N_budget\n",
    "        c = (a+b)/2.\n",
    "        N_budget = N_budget - 2\n",
    "        \n",
    "        #Evaluo a fc con los valores que tengo y despues procedo a restarselo al N_budget\n",
    "        fc = f(c, y_i , valor_i , M)\n",
    "        N_budget = N_budget - 114\n",
    "\n",
    "        # Si encuentra la raiz termina\n",
    "        if fc == 0:\n",
    "            print('f(c)==0')\n",
    "            break\n",
    "        #Si asa el if anterior procedo a comprobar el elif por lo tanto le resto 1 a N_budget\n",
    "        elif np.sign(fa*fc) < 0:\n",
    "            b = c\n",
    "            fb = fc\n",
    "        else:\n",
    "            a = c\n",
    "            fa = fc\n",
    "            \n",
    "        N_budget = N_budget-1\n",
    "        i += 1\n",
    "        N_budget = N_budget -1\n",
    "        \n",
    "    xc = (a+b)/2.0\n",
    "    N_budget = N_budget -2\n",
    "    return [xc, N_budget]"
   ]
  },
  {
   "cell_type": "code",
   "execution_count": 88,
   "metadata": {},
   "outputs": [],
   "source": [
    "def bisect_ode_solver(M_intervals=100,N_budget=1e4,tol=1e-8):\n",
    "    y = np.full(M_intervals+1,np.nan)\n",
    "    f = lambda x, y, i, M: (50/(M)) * (x*(cos(100*(i+1)/M + x)) + y*(cos(100*i/M + y))) - x + y \n",
    "    y_i = 1.0\n",
    "    y[0]= y_i\n",
    "    for i in range(M_intervals):\n",
    "        for j in range(10):       \n",
    "            y_temp = bisect(f, -(2**(j+1)) , 2**(j+1) , y_i , i , M_intervals, N_budget, tol)\n",
    "            if (y_temp != False):\n",
    "                y_i = y_temp[0]\n",
    "                y[i+1]=y_i\n",
    "                N_budget = y_temp[1]\n",
    "                break\n",
    "        if N_budget <= 0:\n",
    "            break\n",
    "    return y"
   ]
  },
  {
   "cell_type": "code",
   "execution_count": 89,
   "metadata": {},
   "outputs": [
    {
     "data": {
      "text/plain": [
       "array([1.        , 1.0370511 , 0.56635009, 0.21938727,        nan,\n",
       "              nan,        nan,        nan,        nan,        nan,\n",
       "              nan,        nan,        nan,        nan,        nan,\n",
       "              nan,        nan,        nan,        nan,        nan,\n",
       "              nan,        nan,        nan,        nan,        nan,\n",
       "              nan,        nan,        nan,        nan,        nan,\n",
       "              nan,        nan,        nan,        nan,        nan,\n",
       "              nan,        nan,        nan,        nan,        nan,\n",
       "              nan,        nan,        nan,        nan,        nan,\n",
       "              nan,        nan,        nan,        nan,        nan,\n",
       "              nan,        nan,        nan,        nan,        nan,\n",
       "              nan,        nan,        nan,        nan,        nan,\n",
       "              nan,        nan,        nan,        nan,        nan,\n",
       "              nan,        nan,        nan,        nan,        nan,\n",
       "              nan,        nan,        nan,        nan,        nan,\n",
       "              nan,        nan,        nan,        nan,        nan,\n",
       "              nan,        nan,        nan,        nan,        nan,\n",
       "              nan,        nan,        nan,        nan,        nan,\n",
       "              nan,        nan,        nan,        nan,        nan,\n",
       "              nan,        nan,        nan,        nan,        nan,\n",
       "              nan])"
      ]
     },
     "execution_count": 89,
     "metadata": {},
     "output_type": "execute_result"
    }
   ],
   "source": [
    "bisect_ode_solver()"
   ]
  },
  {
   "cell_type": "markdown",
   "metadata": {},
   "source": [
    "\n",
    "\n",
    "- Iteración de Punto Fijo (Restricción: Aquí no se puede usar el método de Newton). <span style=\"color:blue; font-size: 2em\"> **15 puntos**</span> \n",
    "\n",
    "```python\n",
    "'''\n",
    "Input: \n",
    "M_intervals - (integer) Number of intervals that the domain [0,100] will be divided.\n",
    "N_budget - (integer) Budget for the number of allowed of elemental operations.\n",
    "tol - (double) Tolerance for the root, it must be greater or equal to 0.\n",
    "Output:\n",
    "y - (double-array) The values of y(x_i) for all the values of x_i. The dimension of this vector is M+1, it must include the initial value. The vector should return NaN if it could not compute any of the values required.\n",
    "'''\n",
    "def fpi_ode_solver(M_intervals=10,N_budget=1e4,tol=1e-8):\n",
    "    y = np.full(M_intervals+1,np.nan)\n",
    "    ...\n",
    "    return y\n",
    "```"
   ]
  },
  {
   "cell_type": "code",
   "execution_count": 90,
   "metadata": {},
   "outputs": [],
   "source": [
    "def fpi(g, x0, y_i , valor_i , M,  k,N_budget, tol):\n",
    "    x = np.empty(k+1)\n",
    "    x[0] = x0\n",
    "    error_i = np.inf\n",
    "    \n",
    "    for i in range(k):\n",
    "        x[i+1] = g(x[i], y_i , valor_i , M)\n",
    "        N_budget = N_budget - 113\n",
    "        error_iminus1 = error_i\n",
    "        error_i = abs(x[i+1]-x[i])\n",
    "        N_budget = N_budget - 1\n",
    "        \n",
    "        #se detiene al ser el error menor a la tolerancia dada\n",
    "        if (error_i <= tol):\n",
    "            j=i\n",
    "            break\n",
    "    return [x[j+1], N_budget]"
   ]
  },
  {
   "cell_type": "code",
   "execution_count": 91,
   "metadata": {},
   "outputs": [],
   "source": [
    "def fpi_ode_solver(M_intervals=100,N_budget=1e4,tol=1e-8):\n",
    "    y = np.full(M_intervals+1,np.nan)\n",
    "    g_punto_fijo = lambda x, y, i, M: (50/(M)) * (x*(cos(100*(i+1)/M + x)) + y*(cos(100*i/M + y)))  + y \n",
    "    y_i = 1.0\n",
    "    y[0]= 1.0\n",
    "    for i in range(M_intervals):\n",
    "        y_temp = fpi(g_punto_fijo, 0.5, y_i, i, M_intervals, 100,N_budget, tol)\n",
    "        y_i = y_temp[0]\n",
    "        y[i+1] = y_i\n",
    "        N_budget = y_temp[1]\n",
    "        if (N_budget <= 0):\n",
    "            break\n",
    "    return y"
   ]
  },
  {
   "cell_type": "code",
   "execution_count": 92,
   "metadata": {},
   "outputs": [
    {
     "data": {
      "text/plain": [
       "array([1.        , 1.03705111, 0.5663501 , 0.21938727,        nan,\n",
       "              nan,        nan,        nan,        nan,        nan,\n",
       "              nan,        nan,        nan,        nan,        nan,\n",
       "              nan,        nan,        nan,        nan,        nan,\n",
       "              nan,        nan,        nan,        nan,        nan,\n",
       "              nan,        nan,        nan,        nan,        nan,\n",
       "              nan,        nan,        nan,        nan,        nan,\n",
       "              nan,        nan,        nan,        nan,        nan,\n",
       "              nan,        nan,        nan,        nan,        nan,\n",
       "              nan,        nan,        nan,        nan,        nan,\n",
       "              nan,        nan,        nan,        nan,        nan,\n",
       "              nan,        nan,        nan,        nan,        nan,\n",
       "              nan,        nan,        nan,        nan,        nan,\n",
       "              nan,        nan,        nan,        nan,        nan,\n",
       "              nan,        nan,        nan,        nan,        nan,\n",
       "              nan,        nan,        nan,        nan,        nan,\n",
       "              nan,        nan,        nan,        nan,        nan,\n",
       "              nan,        nan,        nan,        nan,        nan,\n",
       "              nan,        nan,        nan,        nan,        nan,\n",
       "              nan,        nan,        nan,        nan,        nan,\n",
       "              nan])"
      ]
     },
     "execution_count": 92,
     "metadata": {},
     "output_type": "execute_result"
    }
   ],
   "source": [
    "fpi_ode_solver()"
   ]
  },
  {
   "cell_type": "markdown",
   "metadata": {},
   "source": [
    "\n",
    "- Método de Newton. <span style=\"color:blue; font-size: 2em\"> **15 puntos**</span> \n",
    "\n",
    "```python\n",
    "'''\n",
    "Input: \n",
    "M_intervals - (integer) Number of intervals that the domain [0,100] will be divided.\n",
    "N_budget - (integer) Budget for the number of allowed of elemental operations.\n",
    "tol - (double) Tolerance for the root, it must be greater or equal to 0.\n",
    "Output:\n",
    "y - (double-array) The values of y(x_i) for all the values of x_i. The dimension of this vector is M+1, it must include the initial value. The vector should return NaN if it could not compute any of the values required.\n",
    "'''\n",
    "def newton_ode_solver(M_intervals=10,N_budget=1e4,tol=1e-8):\n",
    "    y = np.full(M_intervals+1,np.nan)\n",
    "    ...\n",
    "    return y\n",
    "```"
   ]
  },
  {
   "cell_type": "code",
   "execution_count": 93,
   "metadata": {},
   "outputs": [],
   "source": [
    "def newton_method(f, fp, x0, y_i , valor_i , M,N_budget, rel_error=1e-8, m=1):\n",
    "    #Initialization of hybrid error and absolute\n",
    "    hybrid_error = 100\n",
    "    error_i = np.inf\n",
    "    \n",
    "\n",
    "    \n",
    "    #Iteration counter\n",
    "    i = 1\n",
    "    while (hybrid_error > rel_error and hybrid_error < 1e12 and i < 1e4):\n",
    "        \n",
    "        #Se evalua la nueva iteracion de Newton y ademas le restamos todas las operaciones al N_budget\n",
    "        x1 = x0-m*f(x0,y_i , valor_i , M)/fp(x0,y_i , valor_i , M)\n",
    "        N_budget =N_budget - 230\n",
    "        \n",
    "        #Se Chequea si se encontro la solucion, ademas se le resta al N_budget las operaciones realizadas en f\n",
    "        if f(x1,y_i , valor_i , M) == 0.0:\n",
    "            hybrid_error = 0.0\n",
    "            break\n",
    "        N_budget = N_budget-114\n",
    "        \n",
    "        #Computation of hybrid error\n",
    "        hybrid_error = abs(x1-x0)/np.max([abs(x1),1e-12])\n",
    "        N_budget = N_budget - 2\n",
    "        \n",
    "        #Computation of absolute error\n",
    "        error_iminus1 = error_i\n",
    "        error_i = abs(x1-x0)\n",
    "        N_budget = N_budget-1\n",
    "        \n",
    "        #Increasing counter\n",
    "        i += 1\n",
    "        \n",
    "        #Updating solution\n",
    "        x0 = x1\n",
    "    \n",
    "    #Checking if solution was obtained\n",
    "    if hybrid_error < rel_error: \n",
    "        return [x1, N_budget]\n",
    "    elif i>=1e4:\n",
    "        print('Newton''s Method diverged. Too many iterations!!')\n",
    "        return None\n",
    "    else:\n",
    "        print('Newton''s Method diverged!')\n",
    "        return None"
   ]
  },
  {
   "cell_type": "code",
   "execution_count": 94,
   "metadata": {},
   "outputs": [],
   "source": [
    "def newton_ode_solver(M_intervals=100,N_budget=1e4,tol=1e-8):\n",
    "    y = np.full(M_intervals+1,np.nan)\n",
    "    f = lambda x, y, i, M: (50/(M)) * (x*(cos(100*(i+1)/M + x)) + y*(cos(100*i/M + y))) - x + y \n",
    "    fprime = lambda x, y, i, M: -1 + 50*(-x*sin(x + (100*i + 100)/M) + cos(x + (100*i + 100)/M))/M\n",
    "    y_i = 1.0\n",
    "    y[0]= 1.0\n",
    "    for i in range(M_intervals):\n",
    "        y_temp = newton_method(f , fprime , 0.5, y_i, i, M_intervals,N_budget, tol)\n",
    "        y_i =y_temp[0]\n",
    "        y[i+1]=y_i\n",
    "        N_budget = y_temp[1]\n",
    "        if N_budget <= 0:\n",
    "            break\n",
    "    return y"
   ]
  },
  {
   "cell_type": "code",
   "execution_count": 95,
   "metadata": {},
   "outputs": [
    {
     "data": {
      "text/plain": [
       "array([1.        , 1.0370511 , 0.5663501 , 0.21938727, 0.08506076,\n",
       "       0.07296832, 0.17060101, 0.33882626,        nan,        nan,\n",
       "              nan,        nan,        nan,        nan,        nan,\n",
       "              nan,        nan,        nan,        nan,        nan,\n",
       "              nan,        nan,        nan,        nan,        nan,\n",
       "              nan,        nan,        nan,        nan,        nan,\n",
       "              nan,        nan,        nan,        nan,        nan,\n",
       "              nan,        nan,        nan,        nan,        nan,\n",
       "              nan,        nan,        nan,        nan,        nan,\n",
       "              nan,        nan,        nan,        nan,        nan,\n",
       "              nan,        nan,        nan,        nan,        nan,\n",
       "              nan,        nan,        nan,        nan,        nan,\n",
       "              nan,        nan,        nan,        nan,        nan,\n",
       "              nan,        nan,        nan,        nan,        nan,\n",
       "              nan,        nan,        nan,        nan,        nan,\n",
       "              nan,        nan,        nan,        nan,        nan,\n",
       "              nan,        nan,        nan,        nan,        nan,\n",
       "              nan,        nan,        nan,        nan,        nan,\n",
       "              nan,        nan,        nan,        nan,        nan,\n",
       "              nan,        nan,        nan,        nan,        nan,\n",
       "              nan])"
      ]
     },
     "execution_count": 95,
     "metadata": {},
     "output_type": "execute_result"
    }
   ],
   "source": [
    "newton_ode_solver()"
   ]
  },
  {
   "cell_type": "code",
   "execution_count": 105,
   "metadata": {},
   "outputs": [],
   "source": [
    "# This definitions were added now in Code mode. \n",
    "# Currently they just plot the 'sin' function but need to be modified for the homework.\n",
    "# We added this so we can use the funcion 'plot_solutions_of_ODE'.\n",
    "def bisect_ode_solver(M_intervals=10,N_budget=1e4,tol=1e-8):\n",
    "    y = np.full(M_intervals+1,np.nan)\n",
    "    x = np.linspace(0,10,M_intervals+1)\n",
    "    y = np.sin(x)\n",
    "    return y\n",
    "def fpi_ode_solver(M_intervals=10,N_budget=1e4,tol=1e-8):\n",
    "    y = np.full(M_intervals+1,np.nan)\n",
    "    x = np.linspace(0,10,M_intervals+1)\n",
    "    y = np.sin(x)\n",
    "    return y\n",
    "def newton_ode_solver(M_intervals=10,N_budget=1e4,tol=1e-8):\n",
    "    y = np.full(M_intervals+1,np.nan)\n",
    "    x = np.linspace(0,10,M_intervals+1)\n",
    "    y = np.sin(x)\n",
    "    return y"
   ]
  },
  {
   "cell_type": "markdown",
   "metadata": {},
   "source": [
    "## 3.- Visualización y Conclusiones\n",
    "Utilice el siguiente código para visualizar sus resultados. Se incluye esta función para que pueda visualizar sus resultados."
   ]
  },
  {
   "cell_type": "code",
   "execution_count": 102,
   "metadata": {
    "scrolled": false
   },
   "outputs": [
    {
     "data": {
      "application/vnd.jupyter.widget-view+json": {
       "model_id": "925b1c8705004b388ff7edb732af89a2",
       "version_major": 2,
       "version_minor": 0
      },
      "text/plain": [
       "interactive(children=(IntSlider(value=100, description='M_intervals', max=100000, min=100, step=100), IntSlide…"
      ]
     },
     "metadata": {},
     "output_type": "display_data"
    },
    {
     "data": {
      "text/plain": [
       "<function __main__.plot_solutions_of_ODE(M_intervals=10, N_budget=10000.0, log_tol=-8, shift=0.1)>"
      ]
     },
     "execution_count": 102,
     "metadata": {},
     "output_type": "execute_result"
    }
   ],
   "source": [
    "def plot_solutions_of_ODE(M_intervals=10,N_budget=1e4,log_tol=-8,shift=0.1):\n",
    "    tol = 10**log_tol\n",
    "    x        = np.linspace(0,10,M_intervals+1)\n",
    "    y_bisec  = bisect_ode_solver(M_intervals,N_budget,tol)\n",
    "    y_fpi    = fpi_ode_solver(M_intervals,N_budget,tol)\n",
    "    y_newton = newton_ode_solver(M_intervals,N_budget,tol)\n",
    "    plt.figure(figsize=(8,8))\n",
    "    plt.plot(x,y_bisec+shift,'b-',label='Bisección: y+'+str(shift))\n",
    "    plt.plot(x,y_fpi,'m-',label='FPI: y')\n",
    "    plt.plot(x,y_newton-shift,'g-',label='Newton: y-'+str(shift),linewidth=3,alpha=0.5)\n",
    "    plt.legend(loc='best')\n",
    "    plt.title('Plot of solutions with shift for visualization purposes')\n",
    "    plt.grid(True)\n",
    "    plt.show()\n",
    "    \n",
    "interact(plot_solutions_of_ODE,M_intervals=(100,100000,100),N_budget=(100,1000000,1000),log_tol=(-14,-1,1),shift=(-1,1,0.01))"
   ]
  },
  {
   "cell_type": "markdown",
   "metadata": {},
   "source": [
    "- **Conclusiones**. Escriba las conclusiones de lo aprendido en su tarea, estas deben ser sustentadas con los desarrollos y experimentos numéricos realizados.  <span style=\"color:blue; font-size: 2em\"> **15 puntos**</span> "
   ]
  },
  {
   "cell_type": "markdown",
   "metadata": {},
   "source": [
    "_Answer_"
   ]
  },
  {
   "cell_type": "markdown",
   "metadata": {},
   "source": [
    "-------"
   ]
  },
  {
   "cell_type": "markdown",
   "metadata": {},
   "source": [
    "# Instrucciones:\n",
    "\n",
    "* **Importante, Asegúrese de responder TODO lo que la pregunta pide.**\n",
    "* La estructura de la tarea es la siguiente:\n",
    "     1. Título, nombre de estudiante, email y rol.\n",
    "     2. Responder cada pregunta de forma personal.\n",
    "     5. Referencias. Es muy importante incluir todas las fuentes usadas, de otra forma se considera que lo no se ha citado adecuadamente es su trabajo.\n",
    "* La tarea debe ser realizada en `Jupyter Notebook` (`Python3`) entregado.\n",
    "* Se evaluará la correcta utilización de librerias `NumPy`, `SciPy`, `Matplotlib` y `ipywidgets`, entre otras, así como la **correcta implementación de algoritmos vectorizados**.\n",
    "* **MUY IMPORTANTE** El archivo de entrega debe denominarse TareaN-rol.tar.gz y _notebook_ debe tener como nombre TareaN-rol.ipynb, donde $N$ es el número de la tarea y debe contener un directorio con todos los archivos necesarios para ejecutar el notebook, junto con un archivo README indicando explícitamente las librerías o módulos utilizados, nombre y rol del estudiante. El no cumplimiento de esta regla significa calificación $0$.\n",
    "* El descuento por día de atraso será de $30$ puntos, con un máximo de 1 día de atraso. No se recibirán entregas después de este día.\n",
    "* Debe citar toda fuente de código externo. \n",
    "* El trabajo es personal, no se permite compartir código ni utilizar código de otros, aunque sí se sugiere discutir aspectos generales con sus compañeros.\n",
    "* En caso de sospecha de no cumplimiento de estas instrucciones, se solicitará al involucrado o la involucrada a aclarar la situación. Dependiendo de la justificación se decidirá su calificación, la cual podrá o no ser penalizada.\n",
    "* El no seguir estas instrucciones, implica descuentos en su nota obtenida."
   ]
  },
  {
   "cell_type": "markdown",
   "metadata": {},
   "source": [
    "# Anexo: Pregunta Bonus <span style=\"color:blue\"> **30 puntos**</span> \n",
    "\n",
    "_Los Avengers_, mientras ud. desarrollaba su solución propuesta, han estado trabajando arduamente en paralelo en un nuevo método de búsqueda de raíces que les pueda ser de ayuda.\n",
    "\n",
    "En particular, han desarrollado un método basado en el Método de la Secante. \n",
    "Sin embargo, en lugar de buscar aproximaciones de la raíz mediante secantes trazadas desde 2 _initial guess_, **se proyecta una parábola a partir de 3 _puntos iniciales dados_**.\n",
    "\n",
    "Para ello, se define una parábola de una forma conveniente, a partir de tres puntos $(x_0, f(x_0)), (x_1, f(x_1)),  (x_2, f(x_2))$:\n",
    "\\begin{align*}\n",
    "f(x) = a(x - x_2)^2 + b(x - x_2) + c.\n",
    "\\end{align*}\n",
    "\n",
    "Luego, se obtienen los coeficientes $a, b, c$ a partir de los 3 puntos indicados. \n",
    "Una vez definida la parábola, se elige el punto $x_3$ como **la intersección de la parábola con el eje x más cercana a $x_2$**.\n",
    "A partir de $x_3$, su correspondiente $f(x_3)$ y **junto a dos puntos previos más cercanos a él** se construye una nueva parábola y se continua de la misma forma. A continuación se presenta un _sketch_ gráfico referente al método ($r$ corresponse a la aproximación de la raíz $root$), obtenida desde la parábola construida con $x_0$, $x_1$ y $x_2$.\n",
    "\n",
    "<img src=\"parabola.png\" style=\"width:50%\">\n",
    "\n",
    "Se sugiere además _poner especial cuidado a la pérdida de significancia en este algoritmo._"
   ]
  },
  {
   "cell_type": "markdown",
   "metadata": {},
   "source": [
    "## B.1. Implementación\n",
    "\n",
    "Resuelva el problema de graficar la EDO anteriormente descrita, pero esta vez utilize este algoritmo para resolver la secuencia de problemas de busqueda de raíces. Implemente el algoritmo bajo las mismas condiciones de presupuesto de operaciones elementales. Comparelo con los algoritmos anteriores y explique claramente sus ventajas y desventajas. Se sugiere modificar la función ```python plot_solutions_of_ODE ``` para incluir ```python avengers_ode_solver``` si decide libremente aceptar realizar el bonus."
   ]
  },
  {
   "cell_type": "markdown",
   "metadata": {},
   "source": [
    "```python\n",
    "'''\n",
    "Input: \n",
    "M_intervals - (integer) Number of intervals that the domain [0,100] will be divided.\n",
    "N_budget - (integer) Budget for the number of allowed of elemental operations.\n",
    "tol - (double) Tolerance for the root, it must be greater or equal to 0.\n",
    "Output:\n",
    "y - (double-array) The values of y(x_i) for all the values of x_i. The dimension of this vector is M+1, it must include the initial value. The vector should return NaN if it could not compute any of the values required.\n",
    "'''\n",
    "def avengers_ode_solver(M_intervals=10,N_budget=1e4,tol=1e-8):\n",
    "    y = np.full(M_intervals+1,np.nan)\n",
    "    ...\n",
    "    return y\n",
    "```"
   ]
  },
  {
   "cell_type": "code",
   "execution_count": null,
   "metadata": {},
   "outputs": [],
   "source": []
  }
 ],
 "metadata": {
  "kernelspec": {
   "display_name": "Python 3",
   "language": "python",
   "name": "python3"
  },
  "language_info": {
   "codemirror_mode": {
    "name": "ipython",
    "version": 3
   },
   "file_extension": ".py",
   "mimetype": "text/x-python",
   "name": "python",
   "nbconvert_exporter": "python",
   "pygments_lexer": "ipython3",
   "version": "3.7.1"
  }
 },
 "nbformat": 4,
 "nbformat_minor": 2
}
